{
  "cells": [
    {
      "cell_type": "code",
      "source": [
        "# !mkdir Dataset\n",
        "# !wget -r -np -nH --reject \"index.html*\" --cut-dirs 6 https://krishna.gs.washington.edu/content/members/vagar/Xpresso/data/datasets/pM10Kb_1KTest/\n",
        "# !mv ./pM10Kb_1KTest ./Dataset"
      ],
      "metadata": {
        "id": "dNgS4KK5m2qu"
      },
      "execution_count": null,
      "outputs": []
    },
    {
      "cell_type": "code",
      "source": [
        "!pip install --upgrade gdown"
      ],
      "metadata": {
        "colab": {
          "base_uri": "https://localhost:8080/"
        },
        "id": "w_JK9nKYnjm3",
        "outputId": "0c4c57b3-b6a2-4827-cf9f-699e83cea469"
      },
      "execution_count": null,
      "outputs": [
        {
          "output_type": "stream",
          "name": "stdout",
          "text": [
            "Looking in indexes: https://pypi.org/simple, https://us-python.pkg.dev/colab-wheels/public/simple/\n",
            "Requirement already satisfied: gdown in /usr/local/lib/python3.8/dist-packages (4.4.0)\n",
            "Collecting gdown\n",
            "  Downloading gdown-4.6.4-py3-none-any.whl (14 kB)\n",
            "Requirement already satisfied: filelock in /usr/local/lib/python3.8/dist-packages (from gdown) (3.9.0)\n",
            "Requirement already satisfied: tqdm in /usr/local/lib/python3.8/dist-packages (from gdown) (4.64.1)\n",
            "Requirement already satisfied: requests[socks] in /usr/local/lib/python3.8/dist-packages (from gdown) (2.25.1)\n",
            "Requirement already satisfied: six in /usr/local/lib/python3.8/dist-packages (from gdown) (1.15.0)\n",
            "Requirement already satisfied: beautifulsoup4 in /usr/local/lib/python3.8/dist-packages (from gdown) (4.6.3)\n",
            "Requirement already satisfied: urllib3<1.27,>=1.21.1 in /usr/local/lib/python3.8/dist-packages (from requests[socks]->gdown) (1.24.3)\n",
            "Requirement already satisfied: chardet<5,>=3.0.2 in /usr/local/lib/python3.8/dist-packages (from requests[socks]->gdown) (4.0.0)\n",
            "Requirement already satisfied: certifi>=2017.4.17 in /usr/local/lib/python3.8/dist-packages (from requests[socks]->gdown) (2022.12.7)\n",
            "Requirement already satisfied: idna<3,>=2.5 in /usr/local/lib/python3.8/dist-packages (from requests[socks]->gdown) (2.10)\n",
            "Requirement already satisfied: PySocks!=1.5.7,>=1.5.6 in /usr/local/lib/python3.8/dist-packages (from requests[socks]->gdown) (1.7.1)\n",
            "Installing collected packages: gdown\n",
            "  Attempting uninstall: gdown\n",
            "    Found existing installation: gdown 4.4.0\n",
            "    Uninstalling gdown-4.4.0:\n",
            "      Successfully uninstalled gdown-4.4.0\n",
            "Successfully installed gdown-4.6.4\n"
          ]
        }
      ]
    },
    {
      "cell_type": "code",
      "source": [
        "!gdown --folder https://drive.google.com/drive/folders/1pw-jBCJRBz2Ecac9ZFWjI_UtLkgu5EcC?usp=share_link\n",
        "!gdown --folder https://drive.google.com/drive/folders/1sXHvnNB1GFAZPIXmmBQHraVb6MwfTdJI?usp=share_link"
      ],
      "metadata": {
        "colab": {
          "base_uri": "https://localhost:8080/"
        },
        "id": "6XkSBMT7ainK",
        "outputId": "9d4ff906-29d0-4f0d-bb50-d750546bdb32"
      },
      "execution_count": null,
      "outputs": [
        {
          "output_type": "stream",
          "name": "stdout",
          "text": [
            "Retrieving folder list\n",
            "Processing file 1L-CRK0H63xbiZrB6oW450NRTYQQactfC translated_transformers_mouse.h5\n",
            "Processing file 1WlEkVpafBJ2rBX8cuy3ftVKpYQmZRcPQ translated_transformers.h5\n",
            "Processing file 1yhEQIfME59TfgEaiLMS_QFoBGvbBuBX7 X_testpromoter.txt\n",
            "Processing file 147tYg5xD-Kr2MCYaG0oGHg4QxFp08nWc X_trainpromoter.txt\n",
            "Processing file 1-rGfYCev7Fj9Q83FJxFjppwAHXLPd9ZU X_validpromoter.txt\n",
            "Retrieving folder list completed\n",
            "Building directory structure\n",
            "Building directory structure completed\n",
            "Downloading...\n",
            "From: https://drive.google.com/uc?id=1L-CRK0H63xbiZrB6oW450NRTYQQactfC\n",
            "To: /content/translated_promoters/translated_transformers_mouse.h5\n",
            "100% 438M/438M [00:04<00:00, 104MB/s]\n",
            "Downloading...\n",
            "From: https://drive.google.com/uc?id=1WlEkVpafBJ2rBX8cuy3ftVKpYQmZRcPQ\n",
            "To: /content/translated_promoters/translated_transformers.h5\n",
            "100% 2.94G/2.94G [00:22<00:00, 131MB/s]\n",
            "Downloading...\n",
            "From: https://drive.google.com/uc?id=1yhEQIfME59TfgEaiLMS_QFoBGvbBuBX7\n",
            "To: /content/translated_promoters/X_testpromoter.txt\n",
            "100% 40.0M/40.0M [00:00<00:00, 114MB/s]\n",
            "Downloading...\n",
            "From: https://drive.google.com/uc?id=147tYg5xD-Kr2MCYaG0oGHg4QxFp08nWc\n",
            "To: /content/translated_promoters/X_trainpromoter.txt\n",
            "100% 655M/655M [00:03<00:00, 175MB/s]\n",
            "Downloading...\n",
            "From: https://drive.google.com/uc?id=1-rGfYCev7Fj9Q83FJxFjppwAHXLPd9ZU\n",
            "To: /content/translated_promoters/X_validpromoter.txt\n",
            "100% 40.0M/40.0M [00:00<00:00, 208MB/s] \n",
            "Download completed\n",
            "Retrieving folder list\n",
            "Processing file 1F9vDmr822T_iEP4cGDT6K1nOnpyiJXuo bestparams.h5\n",
            "Processing file 1cWrewFAl9YVfV7-IfBoyaXE4LnhvCBJM test.h5\n",
            "Processing file 1vyLviBdiPAtwJdrMsuxA9vvZKBJM3yS8 train.h5\n",
            "Processing file 1BMcQZ2hQ6j-jJbUBi6WuR9A2YSgSH-WI valid.h5\n",
            "Retrieving folder list completed\n",
            "Building directory structure\n",
            "Building directory structure completed\n",
            "Downloading...\n",
            "From: https://drive.google.com/uc?id=1F9vDmr822T_iEP4cGDT6K1nOnpyiJXuo\n",
            "To: /content/pM10Kb_1KTest/bestparams.h5\n",
            "100% 956k/956k [00:00<00:00, 167MB/s]\n",
            "Downloading...\n",
            "From: https://drive.google.com/uc?id=1cWrewFAl9YVfV7-IfBoyaXE4LnhvCBJM\n",
            "To: /content/pM10Kb_1KTest/test.h5\n",
            "100% 16.1M/16.1M [00:00<00:00, 208MB/s]\n",
            "Downloading...\n",
            "From: https://drive.google.com/uc?id=1vyLviBdiPAtwJdrMsuxA9vvZKBJM3yS8\n",
            "To: /content/pM10Kb_1KTest/train.h5\n",
            "100% 263M/263M [00:02<00:00, 126MB/s]\n",
            "Downloading...\n",
            "From: https://drive.google.com/uc?id=1BMcQZ2hQ6j-jJbUBi6WuR9A2YSgSH-WI\n",
            "To: /content/pM10Kb_1KTest/valid.h5\n",
            "100% 16.1M/16.1M [00:00<00:00, 148MB/s]\n",
            "Download completed\n"
          ]
        }
      ]
    },
    {
      "cell_type": "code",
      "source": [
        "!mkdir Dataset\n",
        "!mv ./translated_promoters ./Dataset\n",
        "!mv ./pM10Kb_1KTest ./Dataset"
      ],
      "metadata": {
        "id": "E1azoEI9bMH5"
      },
      "execution_count": null,
      "outputs": []
    },
    {
      "cell_type": "code",
      "source": [
        "!git clone https://github.com/vittoriopipoli/FNetCompression.git\n",
        "!mv ./FNetCompression/Classes ./\n",
        "!pip install import-ipynb\n",
        "import import_ipynb\n",
        "import os\n",
        "     "
      ],
      "metadata": {
        "colab": {
          "base_uri": "https://localhost:8080/"
        },
        "id": "0a7NyP58jtO8",
        "outputId": "c4332bc8-01ee-4fb9-ef38-9ee334c513f3"
      },
      "execution_count": null,
      "outputs": [
        {
          "output_type": "stream",
          "name": "stdout",
          "text": [
            "Cloning into 'FNetCompression'...\n",
            "remote: Enumerating objects: 780, done.\u001b[K\n",
            "remote: Counting objects: 100% (180/180), done.\u001b[K\n",
            "remote: Compressing objects: 100% (111/111), done.\u001b[K\n",
            "remote: Total 780 (delta 89), reused 137 (delta 69), pack-reused 600\u001b[K\n",
            "Receiving objects: 100% (780/780), 307.92 MiB | 6.90 MiB/s, done.\n",
            "Resolving deltas: 100% (292/292), done.\n",
            "Looking in indexes: https://pypi.org/simple, https://us-python.pkg.dev/colab-wheels/public/simple/\n",
            "Collecting import-ipynb\n",
            "  Downloading import_ipynb-0.1.4-py3-none-any.whl (4.1 kB)\n",
            "Requirement already satisfied: nbformat in /usr/local/lib/python3.8/dist-packages (from import-ipynb) (5.7.3)\n",
            "Requirement already satisfied: IPython in /usr/local/lib/python3.8/dist-packages (from import-ipynb) (7.9.0)\n",
            "Requirement already satisfied: traitlets>=4.2 in /usr/local/lib/python3.8/dist-packages (from IPython->import-ipynb) (5.7.1)\n",
            "Requirement already satisfied: setuptools>=18.5 in /usr/local/lib/python3.8/dist-packages (from IPython->import-ipynb) (57.4.0)\n",
            "Requirement already satisfied: prompt-toolkit<2.1.0,>=2.0.0 in /usr/local/lib/python3.8/dist-packages (from IPython->import-ipynb) (2.0.10)\n",
            "Requirement already satisfied: pickleshare in /usr/local/lib/python3.8/dist-packages (from IPython->import-ipynb) (0.7.5)\n",
            "Requirement already satisfied: backcall in /usr/local/lib/python3.8/dist-packages (from IPython->import-ipynb) (0.2.0)\n",
            "Requirement already satisfied: pexpect in /usr/local/lib/python3.8/dist-packages (from IPython->import-ipynb) (4.8.0)\n",
            "Requirement already satisfied: pygments in /usr/local/lib/python3.8/dist-packages (from IPython->import-ipynb) (2.6.1)\n",
            "Collecting jedi>=0.10\n",
            "  Downloading jedi-0.18.2-py2.py3-none-any.whl (1.6 MB)\n",
            "\u001b[2K     \u001b[90m━━━━━━━━━━━━━━━━━━━━━━━━━━━━━━━━━━━━━━━━\u001b[0m \u001b[32m1.6/1.6 MB\u001b[0m \u001b[31m42.5 MB/s\u001b[0m eta \u001b[36m0:00:00\u001b[0m\n",
            "\u001b[?25hRequirement already satisfied: decorator in /usr/local/lib/python3.8/dist-packages (from IPython->import-ipynb) (4.4.2)\n",
            "Requirement already satisfied: jupyter-core in /usr/local/lib/python3.8/dist-packages (from nbformat->import-ipynb) (5.2.0)\n",
            "Requirement already satisfied: fastjsonschema in /usr/local/lib/python3.8/dist-packages (from nbformat->import-ipynb) (2.16.2)\n",
            "Requirement already satisfied: jsonschema>=2.6 in /usr/local/lib/python3.8/dist-packages (from nbformat->import-ipynb) (4.3.3)\n",
            "Requirement already satisfied: parso<0.9.0,>=0.8.0 in /usr/local/lib/python3.8/dist-packages (from jedi>=0.10->IPython->import-ipynb) (0.8.3)\n",
            "Requirement already satisfied: attrs>=17.4.0 in /usr/local/lib/python3.8/dist-packages (from jsonschema>=2.6->nbformat->import-ipynb) (22.2.0)\n",
            "Requirement already satisfied: pyrsistent!=0.17.0,!=0.17.1,!=0.17.2,>=0.14.0 in /usr/local/lib/python3.8/dist-packages (from jsonschema>=2.6->nbformat->import-ipynb) (0.19.3)\n",
            "Requirement already satisfied: importlib-resources>=1.4.0 in /usr/local/lib/python3.8/dist-packages (from jsonschema>=2.6->nbformat->import-ipynb) (5.10.2)\n",
            "Requirement already satisfied: six>=1.9.0 in /usr/local/lib/python3.8/dist-packages (from prompt-toolkit<2.1.0,>=2.0.0->IPython->import-ipynb) (1.15.0)\n",
            "Requirement already satisfied: wcwidth in /usr/local/lib/python3.8/dist-packages (from prompt-toolkit<2.1.0,>=2.0.0->IPython->import-ipynb) (0.2.6)\n",
            "Requirement already satisfied: platformdirs>=2.5 in /usr/local/lib/python3.8/dist-packages (from jupyter-core->nbformat->import-ipynb) (3.0.0)\n",
            "Requirement already satisfied: ptyprocess>=0.5 in /usr/local/lib/python3.8/dist-packages (from pexpect->IPython->import-ipynb) (0.7.0)\n",
            "Requirement already satisfied: zipp>=3.1.0 in /usr/local/lib/python3.8/dist-packages (from importlib-resources>=1.4.0->jsonschema>=2.6->nbformat->import-ipynb) (3.13.0)\n",
            "Installing collected packages: jedi, import-ipynb\n",
            "Successfully installed import-ipynb-0.1.4 jedi-0.18.2\n"
          ]
        }
      ]
    },
    {
      "cell_type": "code",
      "source": [
        "!pip install tensorflow==2.7.0"
      ],
      "metadata": {
        "colab": {
          "base_uri": "https://localhost:8080/"
        },
        "id": "_5PseJ4uJxiH",
        "outputId": "28c49def-69d2-4e79-fc0f-32eae80027e7"
      },
      "execution_count": null,
      "outputs": [
        {
          "output_type": "stream",
          "name": "stdout",
          "text": [
            "Looking in indexes: https://pypi.org/simple, https://us-python.pkg.dev/colab-wheels/public/simple/\n",
            "Collecting tensorflow==2.7.0\n",
            "  Downloading tensorflow-2.7.0-cp38-cp38-manylinux2010_x86_64.whl (489.6 MB)\n",
            "\u001b[2K     \u001b[90m━━━━━━━━━━━━━━━━━━━━━━━━━━━━━━━━━━━━━━━\u001b[0m \u001b[32m489.6/489.6 MB\u001b[0m \u001b[31m3.4 MB/s\u001b[0m eta \u001b[36m0:00:00\u001b[0m\n",
            "\u001b[?25hCollecting tensorflow-estimator<2.8,~=2.7.0rc0\n",
            "  Downloading tensorflow_estimator-2.7.0-py2.py3-none-any.whl (463 kB)\n",
            "\u001b[2K     \u001b[90m━━━━━━━━━━━━━━━━━━━━━━━━━━━━━━━━━━━━━━\u001b[0m \u001b[32m463.1/463.1 KB\u001b[0m \u001b[31m38.0 MB/s\u001b[0m eta \u001b[36m0:00:00\u001b[0m\n",
            "\u001b[?25hCollecting keras<2.8,>=2.7.0rc0\n",
            "  Downloading keras-2.7.0-py2.py3-none-any.whl (1.3 MB)\n",
            "\u001b[2K     \u001b[90m━━━━━━━━━━━━━━━━━━━━━━━━━━━━━━━━━━━━━━━━\u001b[0m \u001b[32m1.3/1.3 MB\u001b[0m \u001b[31m14.0 MB/s\u001b[0m eta \u001b[36m0:00:00\u001b[0m\n",
            "\u001b[?25hRequirement already satisfied: termcolor>=1.1.0 in /usr/local/lib/python3.8/dist-packages (from tensorflow==2.7.0) (2.2.0)\n",
            "Requirement already satisfied: opt-einsum>=2.3.2 in /usr/local/lib/python3.8/dist-packages (from tensorflow==2.7.0) (3.3.0)\n",
            "Requirement already satisfied: absl-py>=0.4.0 in /usr/local/lib/python3.8/dist-packages (from tensorflow==2.7.0) (1.4.0)\n",
            "Requirement already satisfied: h5py>=2.9.0 in /usr/local/lib/python3.8/dist-packages (from tensorflow==2.7.0) (3.1.0)\n",
            "Requirement already satisfied: six>=1.12.0 in /usr/local/lib/python3.8/dist-packages (from tensorflow==2.7.0) (1.15.0)\n",
            "Requirement already satisfied: libclang>=9.0.1 in /usr/local/lib/python3.8/dist-packages (from tensorflow==2.7.0) (15.0.6.1)\n",
            "Collecting flatbuffers<3.0,>=1.12\n",
            "  Downloading flatbuffers-2.0.7-py2.py3-none-any.whl (26 kB)\n",
            "Requirement already satisfied: astunparse>=1.6.0 in /usr/local/lib/python3.8/dist-packages (from tensorflow==2.7.0) (1.6.3)\n",
            "Requirement already satisfied: wrapt>=1.11.0 in /usr/local/lib/python3.8/dist-packages (from tensorflow==2.7.0) (1.14.1)\n",
            "Requirement already satisfied: gast<0.5.0,>=0.2.1 in /usr/local/lib/python3.8/dist-packages (from tensorflow==2.7.0) (0.4.0)\n",
            "Requirement already satisfied: grpcio<2.0,>=1.24.3 in /usr/local/lib/python3.8/dist-packages (from tensorflow==2.7.0) (1.51.1)\n",
            "Requirement already satisfied: google-pasta>=0.1.1 in /usr/local/lib/python3.8/dist-packages (from tensorflow==2.7.0) (0.2.0)\n",
            "Requirement already satisfied: numpy>=1.14.5 in /usr/local/lib/python3.8/dist-packages (from tensorflow==2.7.0) (1.21.6)\n",
            "Requirement already satisfied: wheel<1.0,>=0.32.0 in /usr/local/lib/python3.8/dist-packages (from tensorflow==2.7.0) (0.38.4)\n",
            "Collecting keras-preprocessing>=1.1.1\n",
            "  Downloading Keras_Preprocessing-1.1.2-py2.py3-none-any.whl (42 kB)\n",
            "\u001b[2K     \u001b[90m━━━━━━━━━━━━━━━━━━━━━━━━━━━━━━━━━━━━━━━━\u001b[0m \u001b[32m42.6/42.6 KB\u001b[0m \u001b[31m3.2 MB/s\u001b[0m eta \u001b[36m0:00:00\u001b[0m\n",
            "\u001b[?25hRequirement already satisfied: typing-extensions>=3.6.6 in /usr/local/lib/python3.8/dist-packages (from tensorflow==2.7.0) (4.5.0)\n",
            "Requirement already satisfied: tensorflow-io-gcs-filesystem>=0.21.0 in /usr/local/lib/python3.8/dist-packages (from tensorflow==2.7.0) (0.30.0)\n",
            "Requirement already satisfied: tensorboard~=2.6 in /usr/local/lib/python3.8/dist-packages (from tensorflow==2.7.0) (2.11.2)\n",
            "Requirement already satisfied: protobuf>=3.9.2 in /usr/local/lib/python3.8/dist-packages (from tensorflow==2.7.0) (3.19.6)\n",
            "Requirement already satisfied: tensorboard-data-server<0.7.0,>=0.6.0 in /usr/local/lib/python3.8/dist-packages (from tensorboard~=2.6->tensorflow==2.7.0) (0.6.1)\n",
            "Requirement already satisfied: setuptools>=41.0.0 in /usr/local/lib/python3.8/dist-packages (from tensorboard~=2.6->tensorflow==2.7.0) (57.4.0)\n",
            "Requirement already satisfied: markdown>=2.6.8 in /usr/local/lib/python3.8/dist-packages (from tensorboard~=2.6->tensorflow==2.7.0) (3.4.1)\n",
            "Requirement already satisfied: google-auth-oauthlib<0.5,>=0.4.1 in /usr/local/lib/python3.8/dist-packages (from tensorboard~=2.6->tensorflow==2.7.0) (0.4.6)\n",
            "Requirement already satisfied: tensorboard-plugin-wit>=1.6.0 in /usr/local/lib/python3.8/dist-packages (from tensorboard~=2.6->tensorflow==2.7.0) (1.8.1)\n",
            "Requirement already satisfied: werkzeug>=1.0.1 in /usr/local/lib/python3.8/dist-packages (from tensorboard~=2.6->tensorflow==2.7.0) (1.0.1)\n",
            "Requirement already satisfied: requests<3,>=2.21.0 in /usr/local/lib/python3.8/dist-packages (from tensorboard~=2.6->tensorflow==2.7.0) (2.25.1)\n",
            "Requirement already satisfied: google-auth<3,>=1.6.3 in /usr/local/lib/python3.8/dist-packages (from tensorboard~=2.6->tensorflow==2.7.0) (2.16.0)\n",
            "Requirement already satisfied: cachetools<6.0,>=2.0.0 in /usr/local/lib/python3.8/dist-packages (from google-auth<3,>=1.6.3->tensorboard~=2.6->tensorflow==2.7.0) (5.3.0)\n",
            "Requirement already satisfied: rsa<5,>=3.1.4 in /usr/local/lib/python3.8/dist-packages (from google-auth<3,>=1.6.3->tensorboard~=2.6->tensorflow==2.7.0) (4.9)\n",
            "Requirement already satisfied: pyasn1-modules>=0.2.1 in /usr/local/lib/python3.8/dist-packages (from google-auth<3,>=1.6.3->tensorboard~=2.6->tensorflow==2.7.0) (0.2.8)\n",
            "Requirement already satisfied: requests-oauthlib>=0.7.0 in /usr/local/lib/python3.8/dist-packages (from google-auth-oauthlib<0.5,>=0.4.1->tensorboard~=2.6->tensorflow==2.7.0) (1.3.1)\n",
            "Requirement already satisfied: importlib-metadata>=4.4 in /usr/local/lib/python3.8/dist-packages (from markdown>=2.6.8->tensorboard~=2.6->tensorflow==2.7.0) (6.0.0)\n",
            "Requirement already satisfied: certifi>=2017.4.17 in /usr/local/lib/python3.8/dist-packages (from requests<3,>=2.21.0->tensorboard~=2.6->tensorflow==2.7.0) (2022.12.7)\n",
            "Requirement already satisfied: idna<3,>=2.5 in /usr/local/lib/python3.8/dist-packages (from requests<3,>=2.21.0->tensorboard~=2.6->tensorflow==2.7.0) (2.10)\n",
            "Requirement already satisfied: urllib3<1.27,>=1.21.1 in /usr/local/lib/python3.8/dist-packages (from requests<3,>=2.21.0->tensorboard~=2.6->tensorflow==2.7.0) (1.24.3)\n",
            "Requirement already satisfied: chardet<5,>=3.0.2 in /usr/local/lib/python3.8/dist-packages (from requests<3,>=2.21.0->tensorboard~=2.6->tensorflow==2.7.0) (4.0.0)\n",
            "Requirement already satisfied: zipp>=0.5 in /usr/local/lib/python3.8/dist-packages (from importlib-metadata>=4.4->markdown>=2.6.8->tensorboard~=2.6->tensorflow==2.7.0) (3.13.0)\n",
            "Requirement already satisfied: pyasn1<0.5.0,>=0.4.6 in /usr/local/lib/python3.8/dist-packages (from pyasn1-modules>=0.2.1->google-auth<3,>=1.6.3->tensorboard~=2.6->tensorflow==2.7.0) (0.4.8)\n",
            "Requirement already satisfied: oauthlib>=3.0.0 in /usr/local/lib/python3.8/dist-packages (from requests-oauthlib>=0.7.0->google-auth-oauthlib<0.5,>=0.4.1->tensorboard~=2.6->tensorflow==2.7.0) (3.2.2)\n",
            "Installing collected packages: tensorflow-estimator, keras, flatbuffers, keras-preprocessing, tensorflow\n",
            "  Attempting uninstall: tensorflow-estimator\n",
            "    Found existing installation: tensorflow-estimator 2.11.0\n",
            "    Uninstalling tensorflow-estimator-2.11.0:\n",
            "      Successfully uninstalled tensorflow-estimator-2.11.0\n",
            "  Attempting uninstall: keras\n",
            "    Found existing installation: keras 2.11.0\n",
            "    Uninstalling keras-2.11.0:\n",
            "      Successfully uninstalled keras-2.11.0\n",
            "  Attempting uninstall: flatbuffers\n",
            "    Found existing installation: flatbuffers 23.1.21\n",
            "    Uninstalling flatbuffers-23.1.21:\n",
            "      Successfully uninstalled flatbuffers-23.1.21\n",
            "  Attempting uninstall: tensorflow\n",
            "    Found existing installation: tensorflow 2.11.0\n",
            "    Uninstalling tensorflow-2.11.0:\n",
            "      Successfully uninstalled tensorflow-2.11.0\n",
            "Successfully installed flatbuffers-2.0.7 keras-2.7.0 keras-preprocessing-1.1.2 tensorflow-2.7.0 tensorflow-estimator-2.7.0\n"
          ]
        }
      ]
    },
    {
      "cell_type": "code",
      "source": [
        "!nvidia-smi"
      ],
      "metadata": {
        "colab": {
          "base_uri": "https://localhost:8080/"
        },
        "id": "U5HnMcyeyAM8",
        "outputId": "33e62d0e-13ca-4305-d7b9-fd693118b01f"
      },
      "execution_count": null,
      "outputs": [
        {
          "output_type": "stream",
          "name": "stdout",
          "text": [
            "Wed Feb 22 09:19:06 2023       \n",
            "+-----------------------------------------------------------------------------+\n",
            "| NVIDIA-SMI 510.47.03    Driver Version: 510.47.03    CUDA Version: 11.6     |\n",
            "|-------------------------------+----------------------+----------------------+\n",
            "| GPU  Name        Persistence-M| Bus-Id        Disp.A | Volatile Uncorr. ECC |\n",
            "| Fan  Temp  Perf  Pwr:Usage/Cap|         Memory-Usage | GPU-Util  Compute M. |\n",
            "|                               |                      |               MIG M. |\n",
            "|===============================+======================+======================|\n",
            "|   0  Tesla T4            Off  | 00000000:00:04.0 Off |                    0 |\n",
            "| N/A   44C    P0    25W /  70W |      0MiB / 15360MiB |      0%      Default |\n",
            "|                               |                      |                  N/A |\n",
            "+-------------------------------+----------------------+----------------------+\n",
            "                                                                               \n",
            "+-----------------------------------------------------------------------------+\n",
            "| Processes:                                                                  |\n",
            "|  GPU   GI   CI        PID   Type   Process name                  GPU Memory |\n",
            "|        ID   ID                                                   Usage      |\n",
            "|=============================================================================|\n",
            "|  No running processes found                                                 |\n",
            "+-----------------------------------------------------------------------------+\n"
          ]
        }
      ]
    },
    {
      "cell_type": "code",
      "execution_count": null,
      "metadata": {
        "colab": {
          "base_uri": "https://localhost:8080/"
        },
        "id": "VduLobVbK4sI",
        "outputId": "6b5872fe-91a9-4d5f-a40c-85763a2a9b97"
      },
      "outputs": [
        {
          "output_type": "stream",
          "name": "stdout",
          "text": [
            "importing Jupyter notebook from /content/Classes/DataManager.ipynb\n",
            "importing Jupyter notebook from /content/Classes/Transformer.ipynb\n",
            "\u001b[2K     \u001b[90m━━━━━━━━━━━━━━━━━━━━━━━━━━━━━━━━━━━━━━━━\u001b[0m \u001b[32m1.1/1.1 MB\u001b[0m \u001b[31m29.9 MB/s\u001b[0m eta \u001b[36m0:00:00\u001b[0m\n",
            "\u001b[2K     \u001b[90m━━━━━━━━━━━━━━━━━━━━━━━━━━━━━━━━━━━━━━━━\u001b[0m \u001b[32m43.6/43.6 KB\u001b[0m \u001b[31m6.1 MB/s\u001b[0m eta \u001b[36m0:00:00\u001b[0m\n",
            "\u001b[?25h  Preparing metadata (setup.py) ... \u001b[?25l\u001b[?25hdone\n",
            "\u001b[2K     \u001b[90m━━━━━━━━━━━━━━━━━━━━━━━━━━━━━━━━━━━━━━━━\u001b[0m \u001b[32m1.1/1.1 MB\u001b[0m \u001b[31m27.8 MB/s\u001b[0m eta \u001b[36m0:00:00\u001b[0m\n",
            "\u001b[2K     \u001b[90m━━━━━━━━━━━━━━━━━━━━━━━━━━━━━━━━━━━━━━━━\u001b[0m \u001b[32m1.3/1.3 MB\u001b[0m \u001b[31m25.9 MB/s\u001b[0m eta \u001b[36m0:00:00\u001b[0m\n",
            "\u001b[2K     \u001b[90m━━━━━━━━━━━━━━━━━━━━━━━━━━━━━━━━━━━━━━\u001b[0m \u001b[32m352.1/352.1 KB\u001b[0m \u001b[31m21.6 MB/s\u001b[0m eta \u001b[36m0:00:00\u001b[0m\n",
            "\u001b[2K     \u001b[90m━━━━━━━━━━━━━━━━━━━━━━━━━━━━━━━━━━━━━━\u001b[0m \u001b[32m238.9/238.9 KB\u001b[0m \u001b[31m24.5 MB/s\u001b[0m eta \u001b[36m0:00:00\u001b[0m\n",
            "\u001b[?25h  Building wheel for seqeval (setup.py) ... \u001b[?25l\u001b[?25hdone\n",
            "Populating the interactive namespace from numpy and matplotlib\n",
            "Colab only includes TensorFlow 2.x; %tensorflow_version has no effect.\n",
            "The tensorboard extension is already loaded. To reload it, use:\n",
            "  %reload_ext tensorboard\n"
          ]
        }
      ],
      "source": [
        "from Classes.DataManager import DataManager\n",
        "from Classes.Transformer import projTransformer\n",
        "from tensorflow import keras\n",
        "import tensorflow as tf\n",
        "import numpy as np\n",
        "\n",
        "%load_ext tensorboard"
      ]
    },
    {
      "cell_type": "markdown",
      "metadata": {
        "id": "jA2MdWaRVWNa"
      },
      "source": [
        "data loading takes at most 30s, we can improve it saving the numerical representation of sequences"
      ]
    },
    {
      "cell_type": "code",
      "execution_count": null,
      "metadata": {
        "colab": {
          "base_uri": "https://localhost:8080/"
        },
        "id": "8WCv737EL3C4",
        "outputId": "79cfd58a-1306-48b8-835d-de07b5cfc55c"
      },
      "outputs": [
        {
          "output_type": "stream",
          "name": "stdout",
          "text": [
            "> Loading DataManager...\n",
            "> Loading train data...\n",
            "> Loading validation data...\n",
            "> Loading test data...\n",
            "\n",
            "**************\n",
            "     DONE\n",
            "**************\n",
            "\n"
          ]
        }
      ],
      "source": [
        "print(\"> Loading DataManager...\")\n",
        "dm = DataManager(transformer=True, remove_indicted=True)\n",
        "\n",
        "print(\"> Loading train data...\")\n",
        "X_trainhalflife, X_trainpromoter, y_train, geneName_train = dm.get_train(True, True)\n",
        "\n",
        "print(\"> Loading validation data...\")\n",
        "X_validationhalflife, X_validationpromoter, y_validation, geneName_validation, _ = dm.get_validation(True, True)\n",
        "\n",
        "print(\"> Loading test data...\")\n",
        "X_testhalflife, X_testpromoter, y_test, geneName_test = dm.get_test(True, True)\n",
        "\n",
        "print(\"\\n**************\\n     DONE\\n**************\\n\")"
      ]
    },
    {
      "cell_type": "markdown",
      "metadata": {
        "id": "FLcUtzBqUdqY"
      },
      "source": [
        "Preprocessing-> Padding"
      ]
    },
    {
      "cell_type": "code",
      "source": [
        "leftpos  = 0           #3_000    #0_000  #9_500  #0_000   #4_750   # 9_616\n",
        "rightpos = 20_000          #13_500   #10_500 #20_000 #20_000  #15_250  # 10_384\n",
        "maxlen   = rightpos-leftpos\n",
        "print(\"maxlen: \",maxlen, f\" {leftpos}:{rightpos}\")"
      ],
      "metadata": {
        "id": "Y_CMbgctj7xX",
        "colab": {
          "base_uri": "https://localhost:8080/"
        },
        "outputId": "397ed3d7-09d7-4d93-e5a4-2667a58d06c4"
      },
      "execution_count": null,
      "outputs": [
        {
          "output_type": "stream",
          "name": "stdout",
          "text": [
            "maxlen:  20000  0:20000\n"
          ]
        }
      ]
    },
    {
      "cell_type": "code",
      "execution_count": null,
      "metadata": {
        "id": "eqXqbJVR2gJJ"
      },
      "outputs": [],
      "source": [
        "X_train = tf.data.Dataset.from_tensor_slices(({'sequence': np.array(X_trainpromoter[:, leftpos:rightpos], dtype=np.uint8),      'target': y_train.reshape(-1,1),         'halflife': X_trainhalflife}))\n",
        "X_val   = tf.data.Dataset.from_tensor_slices(({'sequence': np.array(X_validationpromoter[:, leftpos:rightpos], dtype=np.uint8), 'target': y_validation.reshape(-1,1),   'halflife': X_validationhalflife}))\n",
        "X_test  = tf.data.Dataset.from_tensor_slices(({'sequence': np.array(X_testpromoter[:, leftpos:rightpos], dtype=np.uint8),       'target': y_test.reshape(-1,1),          'halflife': X_testhalflife}))\n",
        "cardinality = X_train.cardinality().numpy()\n"
      ]
    },
    {
      "cell_type": "code",
      "source": [
        "batch_size      = 256"
      ],
      "metadata": {
        "id": "chQrd_6yulRB"
      },
      "execution_count": null,
      "outputs": []
    },
    {
      "cell_type": "code",
      "execution_count": null,
      "metadata": {
        "id": "G2FYfUcB4a17"
      },
      "outputs": [],
      "source": [
        "X_train_tf = X_train.shuffle(cardinality*2).batch(batch_size).cache().prefetch(tf.data.AUTOTUNE).repeat()\n",
        "X_val_tf   = X_val.batch(batch_size).cache().prefetch(tf.data.AUTOTUNE)\n",
        "X_test_tf  = X_test.batch(batch_size).cache().prefetch(tf.data.AUTOTUNE)"
      ]
    },
    {
      "cell_type": "code",
      "source": [
        "# tf.compat.v1.enable_eager_execution()"
      ],
      "metadata": {
        "id": "GjDGuK2FgVci"
      },
      "execution_count": null,
      "outputs": []
    },
    {
      "cell_type": "code",
      "execution_count": null,
      "metadata": {
        "id": "KX0FerWW46EQ"
      },
      "outputs": [],
      "source": [
        "model_type      = \"FNET_Final\"\n",
        "logdir          = None\n",
        "loss            = \"mse\"\n",
        "p_enc           = \"original\"\n",
        "pooler          = \"tanh\"\n",
        "n_layers1       = 1\n",
        "n_layers2       = 1\n",
        "k_size          = \"multiconv_proj\" # \"multiconv\"\n",
        "shift_freq      = True  # True\n",
        "plot_attention  = False  # True\n",
        "alternate       = None\n",
        "timeskip        = False\n",
        "compression     = 0.95 # 0.95 # False\n",
        "convDownScale   = True\n",
        "tss             = None\n",
        "mask_embedding  = False\n",
        "add_reg         = True\n",
        "embed_dim       = 32\n",
        "ff_dim          = embed_dim*2\n",
        "pool_size       = 128\n",
        "dense           = 128\n",
        "lr              = 0.0002 #2e-4 # 1e-4\n",
        "lr_red_epoch    = 30\n",
        "reduction_factor= 5\n",
        "t_rate          = 0.1    # 0.1\n",
        "halflife        = True\n"
      ]
    },
    {
      "cell_type": "markdown",
      "source": [
        "Parameters\n",
        "    FNet_0_0\n",
        "        Total params: 40,737\n",
        "        Trainable params: 40,673\n",
        "        Non-trainable params: 64    \n",
        "    FNet_1_0\n",
        "        Total params: 45,089\n",
        "        Trainable params: 45,025\n",
        "        Non-trainable params: 64  \n",
        "    FNet_1_1\n",
        "        Total params: 66,209\n",
        "        Trainable params: 66,145\n",
        "        Non-trainable params: 64  \n",
        "    FNetComp\n",
        "        Total params: 66,209\n",
        "        Trainable params: 66,145\n",
        "        Non-trainable params: 64        \n",
        "    Trans1\n",
        "        Total params: 61,889\n",
        "        Trainable params: 61,825\n",
        "        Non-trainable params: 64    "
      ],
      "metadata": {
        "id": "5FLj0tfQoQQa"
      }
    },
    {
      "cell_type": "code",
      "execution_count": null,
      "metadata": {
        "id": "YNUubNkh5G8s",
        "colab": {
          "base_uri": "https://localhost:8080/",
          "height": 1000
        },
        "outputId": "2d623ec6-0c10-4527-e0e6-bcbaa168b40d"
      },
      "outputs": [
        {
          "output_type": "stream",
          "name": "stdout",
          "text": [
            "model built\n",
            "Model: \"model\"\n",
            "__________________________________________________________________________________________________\n",
            " Layer (type)                   Output Shape         Param #     Connected to                     \n",
            "==================================================================================================\n",
            " sequence (InputLayer)          [(None, 20000)]      0           []                               \n",
            "                                                                                                  \n",
            " token_embedding (TokenEmbeddin  ((None, 20000, 32),  160        ['sequence[0][0]']               \n",
            " g)                              (0,))                                                            \n",
            "                                                                                                  \n",
            " conv1d (Conv1D)                (None, 20000, 32)    6176        ['token_embedding[0][0]']        \n",
            "                                                                                                  \n",
            " conv1d_1 (Conv1D)              (None, 20000, 32)    9248        ['token_embedding[0][0]']        \n",
            "                                                                                                  \n",
            " concatenate (Concatenate)      (None, 20000, 64)    0           ['conv1d[0][0]',                 \n",
            "                                                                  'conv1d_1[0][0]']               \n",
            "                                                                                                  \n",
            " dense_5 (Dense)                (None, 20000, 32)    2080        ['concatenate[0][0]']            \n",
            "                                                                                                  \n",
            " add (Add)                      (None, 20000, 32)    0           ['dense_5[0][0]',                \n",
            "                                                                  'token_embedding[0][0]']        \n",
            "                                                                                                  \n",
            " average_pooling1d (AveragePool  (None, 156, 32)     0           ['add[0][0]']                    \n",
            " ing1D)                                                                                           \n",
            "                                                                                                  \n",
            " batch_normalization (BatchNorm  (None, 156, 32)     128         ['average_pooling1d[0][0]']      \n",
            " alization)                                                                                       \n",
            "                                                                                                  \n",
            " position_encoding2 (PositionEn  (None, 156, 32)     0           ['batch_normalization[0][0]']    \n",
            " coding2)                                                                                         \n",
            "                                                                                                  \n",
            " fnet_block (FNETBlock)         (None, 8, 32)        4320        ['position_encoding2[0][0]']     \n",
            "                                                                                                  \n",
            " add_reg (Add_REG)              (None, 9, 32)        32          ['fnet_block[0][0]']             \n",
            "                                                                                                  \n",
            " transformer_block (Transformer  ((None, 9, 32),     21120       ['add_reg[0][0]']                \n",
            " Block)                          (None, 4, 9, 9))                                                 \n",
            "                                                                                                  \n",
            " tf.__operators__.getitem (Slic  (None, 32)          0           ['transformer_block[0][0]']      \n",
            " ingOpLambda)                                                                                     \n",
            "                                                                                                  \n",
            " dense (Dense)                  (None, 32)           1056        ['tf.__operators__.getitem[0][0]'\n",
            "                                                                 ]                                \n",
            "                                                                                                  \n",
            " tf.math.tanh (TFOpLambda)      (None, 32)           0           ['dense[0][0]']                  \n",
            "                                                                                                  \n",
            " halflife (InputLayer)          [(None, 8)]          0           []                               \n",
            "                                                                                                  \n",
            " concatenate_1 (Concatenate)    (None, 40)           0           ['tf.math.tanh[0][0]',           \n",
            "                                                                  'halflife[0][0]']               \n",
            "                                                                                                  \n",
            " dense_6 (Dense)                (None, 128)          5248        ['concatenate_1[0][0]']          \n",
            "                                                                                                  \n",
            " dropout_4 (Dropout)            (None, 128)          0           ['dense_6[0][0]']                \n",
            "                                                                                                  \n",
            " dense_7 (Dense)                (None, 128)          16512       ['dropout_4[0][0]']              \n",
            "                                                                                                  \n",
            " dropout_5 (Dropout)            (None, 128)          0           ['dense_7[0][0]']                \n",
            "                                                                                                  \n",
            " Regression_Output (Dense)      (None, 1)            129         ['dropout_5[0][0]']              \n",
            "                                                                                                  \n",
            "==================================================================================================\n",
            "Total params: 66,209\n",
            "Trainable params: 66,145\n",
            "Non-trainable params: 64\n",
            "__________________________________________________________________________________________________\n"
          ]
        },
        {
          "output_type": "display_data",
          "data": {
            "image/png": "[encoded data removed]",
            "text/plain": [
              "<IPython.core.display.Image object>"
            ]
          },
          "metadata": {}
        }
      ],
      "source": [
        "strategy=None\n",
        "net = projTransformer(checkpoint_dir=\"FNET/\", model_type=model_type, n_epochs=300, batch_size=batch_size, alternate=alternate, tss=tss, pool_size=pool_size, mask_embedding=mask_embedding,\n",
        "                    learning_rate=lr, patience=30, optimizer=\"BERTAdam\", vocab_size=5, k_size = k_size, pooler=pooler, shift_freq=shift_freq, timeskip=timeskip, halflife=halflife,\n",
        "                    lr_reduction_epoch=lr_red_epoch, maxlen=maxlen, embed_dim=embed_dim, num_heads=4, ff_dim=ff_dim, dense=dense, plot_attention=plot_attention, add_reg=add_reg,\n",
        "                    dropout_rate=0.1, logdir=logdir, t_rate=t_rate, momentum=0.9, loss=loss, n_layers1=n_layers1, n_layers2=n_layers2, compression=compression, \n",
        "                    p_enc=p_enc, reduction_factor=reduction_factor)\n",
        "    \n",
        "########################################################################################################################"
      ]
    },
    {
      "cell_type": "code",
      "execution_count": null,
      "metadata": {
        "id": "-Os12OFRXvqa",
        "colab": {
          "base_uri": "https://localhost:8080/"
        },
        "outputId": "dce2f70a-1854-43df-803e-a6f3008ad6c0"
      },
      "outputs": [
        {
          "output_type": "stream",
          "name": "stdout",
          "text": [
            "\n",
            "Parameters:\n",
            "\n",
            "checkpoint_dir  :           FNET/\n",
            "model_type  :               FNET_Final\n",
            "n_epochs  :                 300\n",
            "batch_size  :               256\n",
            "learning_rate  :            0.0002\n",
            "momentum  :                 0.9\n",
            "maxlen  :                   20000\n",
            "embed_dim  :                32\n",
            "num_heads  :                4\n",
            "ff_dim  :                   64\n",
            "vocab_size  :               5\n",
            "dense  :                    128\n",
            "dropout_rate  :             0.1\n",
            "lr_reduction_epoch  :       30\n",
            "t_rate  :                   0.1\n",
            "patience  :                 30\n",
            "optimizer  :                BERTAdam\n",
            "warmup_steps  :             1280\n",
            "shuffle  :                  True\n",
            "logdir  :                   None\n",
            "loss  :                     mse\n",
            "history  :                  \n",
            "n_layers1  :                1\n",
            "n_layers2  :                1\n",
            "compression  :              0.95\n",
            "plot_attention  :           False\n",
            "k_size  :                   multiconv_proj\n",
            "p_enc  :                    original\n",
            "pooler  :                   tanh\n",
            "alternate  :                None\n",
            "timeskip  :                 False\n",
            "shift_freq  :               True\n",
            "convDownScale  :            True\n",
            "tss  :                      None\n",
            "pool_size  :                128\n",
            "steps_per_epoch  :          5\n",
            "add_reg  :                  True\n",
            "reduction_factor  :         5\n",
            "mask_embedding  :           False\n",
            "w2v_init  :                 uniform\n",
            "output_neurons  :           1\n",
            "oneHot  :                   False\n",
            "n_targets  :                None\n",
            "cardinality  :              16358\n",
            "normalization  :            batch\n",
            "chimera  :                  False\n",
            "halflife  :                 True\n",
            "asymmetric  :               False\n",
            "pad_to_0  :                 False\n",
            "DNA_tags  :                 False\n",
            "c1_posenc  :                10000\n",
            "w2v_embdim  :               32\n",
            "model  :                    <keras.engine.functional.Functional object at 0x7fc31e754b80>\n"
          ]
        }
      ],
      "source": [
        "X_train_d = X_train_tf\n",
        "X_val_d   = X_val_tf\n",
        "X_test_d  = X_test_tf"
      ]
    },
    {
      "cell_type": "code",
      "execution_count": null,
      "metadata": {
        "id": "-p1wF1tlnujY",
        "colab": {
          "base_uri": "https://localhost:8080/",
          "height": 1000
        },
        "outputId": "21d089fe-9323-4000-bf09-0dcde0358976"
      },
      "outputs": [
        {
          "output_type": "stream",
          "name": "stdout",
          "text": [
            "cardinality 16358\n",
            "\n",
            " Epoch: 1\n"
          ]
        },
        {
          "output_type": "stream",
          "name": "stderr",
          "text": [
            "100%|██████████| 63/63 [00:47<00:00,  1.31it/s]\n",
            "WARNING:tensorflow:Compiled the loaded model, but the compiled metrics have yet to be built. `model.compile_metrics` will be empty until you train or evaluate the model.\n"
          ]
        },
        {
          "output_type": "stream",
          "name": "stdout",
          "text": [
            "\t\ttrain_loss: 1.003 \tval_loss: 0.966 \tlearning_rate: 6.576E-06\n",
            "############################################ New lowest_val_loss reached #########################\n"
          ]
        },
        {
          "output_type": "stream",
          "name": "stderr",
          "text": [
            "WARNING:absl:Found untraced functions such as embedding_layer_call_fn, embedding_layer_call_and_return_conditional_losses, dropout_2_layer_call_fn, dropout_2_layer_call_and_return_conditional_losses, layer_normalization_layer_call_fn while saving (showing 5 of 85). These functions will not be directly callable after loading.\n"
          ]
        },
        {
          "output_type": "stream",
          "name": "stdout",
          "text": [
            "\n",
            " Epoch: 2\n"
          ]
        },
        {
          "output_type": "stream",
          "name": "stderr",
          "text": [
            "100%|██████████| 63/63 [00:35<00:00,  1.79it/s]\n",
            "WARNING:tensorflow:Compiled the loaded model, but the compiled metrics have yet to be built. `model.compile_metrics` will be empty until you train or evaluate the model.\n"
          ]
        },
        {
          "output_type": "stream",
          "name": "stdout",
          "text": [
            "\t\ttrain_loss: 0.971 \tval_loss: 0.937 \tlearning_rate: 1.315E-05\n",
            "############################################ New lowest_val_loss reached #########################\n"
          ]
        },
        {
          "output_type": "stream",
          "name": "stderr",
          "text": [
            "WARNING:absl:Found untraced functions such as embedding_layer_call_fn, embedding_layer_call_and_return_conditional_losses, dropout_2_layer_call_fn, dropout_2_layer_call_and_return_conditional_losses, layer_normalization_layer_call_fn while saving (showing 5 of 85). These functions will not be directly callable after loading.\n"
          ]
        },
        {
          "output_type": "stream",
          "name": "stdout",
          "text": [
            "\n",
            " Epoch: 3\n"
          ]
        },
        {
          "output_type": "stream",
          "name": "stderr",
          "text": [
            "100%|██████████| 63/63 [00:32<00:00,  1.93it/s]\n",
            "WARNING:tensorflow:Compiled the loaded model, but the compiled metrics have yet to be built. `model.compile_metrics` will be empty until you train or evaluate the model.\n"
          ]
        },
        {
          "output_type": "stream",
          "name": "stdout",
          "text": [
            "\t\ttrain_loss: 0.927 \tval_loss: 0.911 \tlearning_rate: 1.973E-05\n",
            "############################################ New lowest_val_loss reached #########################\n"
          ]
        },
        {
          "output_type": "stream",
          "name": "stderr",
          "text": [
            "WARNING:absl:Found untraced functions such as embedding_layer_call_fn, embedding_layer_call_and_return_conditional_losses, dropout_2_layer_call_fn, dropout_2_layer_call_and_return_conditional_losses, layer_normalization_layer_call_fn while saving (showing 5 of 85). These functions will not be directly callable after loading.\n"
          ]
        },
        {
          "output_type": "stream",
          "name": "stdout",
          "text": [
            "\n",
            " Epoch: 4\n"
          ]
        },
        {
          "output_type": "stream",
          "name": "stderr",
          "text": [
            "100%|██████████| 63/63 [00:33<00:00,  1.90it/s]\n",
            "WARNING:tensorflow:Compiled the loaded model, but the compiled metrics have yet to be built. `model.compile_metrics` will be empty until you train or evaluate the model.\n"
          ]
        },
        {
          "output_type": "stream",
          "name": "stdout",
          "text": [
            "\t\ttrain_loss: 0.884 \tval_loss: 0.889 \tlearning_rate: 2.630E-05\n",
            "############################################ New lowest_val_loss reached #########################\n"
          ]
        },
        {
          "output_type": "stream",
          "name": "stderr",
          "text": [
            "WARNING:absl:Found untraced functions such as embedding_layer_call_fn, embedding_layer_call_and_return_conditional_losses, dropout_2_layer_call_fn, dropout_2_layer_call_and_return_conditional_losses, layer_normalization_layer_call_fn while saving (showing 5 of 85). These functions will not be directly callable after loading.\n"
          ]
        },
        {
          "output_type": "stream",
          "name": "stdout",
          "text": [
            "\n",
            " Epoch: 5\n"
          ]
        },
        {
          "output_type": "stream",
          "name": "stderr",
          "text": [
            "100%|██████████| 63/63 [00:33<00:00,  1.89it/s]\n",
            "WARNING:tensorflow:Compiled the loaded model, but the compiled metrics have yet to be built. `model.compile_metrics` will be empty until you train or evaluate the model.\n"
          ]
        },
        {
          "output_type": "stream",
          "name": "stdout",
          "text": [
            "\t\ttrain_loss: 0.858 \tval_loss: 0.884 \tlearning_rate: 3.288E-05\n",
            "############################################ New lowest_val_loss reached #########################\n"
          ]
        },
        {
          "output_type": "stream",
          "name": "stderr",
          "text": [
            "WARNING:absl:Found untraced functions such as embedding_layer_call_fn, embedding_layer_call_and_return_conditional_losses, dropout_2_layer_call_fn, dropout_2_layer_call_and_return_conditional_losses, layer_normalization_layer_call_fn while saving (showing 5 of 85). These functions will not be directly callable after loading.\n"
          ]
        },
        {
          "output_type": "stream",
          "name": "stdout",
          "text": [
            "\n",
            " Epoch: 6\n"
          ]
        },
        {
          "output_type": "stream",
          "name": "stderr",
          "text": [
            "100%|██████████| 63/63 [00:33<00:00,  1.89it/s]\n",
            "WARNING:tensorflow:Compiled the loaded model, but the compiled metrics have yet to be built. `model.compile_metrics` will be empty until you train or evaluate the model.\n"
          ]
        },
        {
          "output_type": "stream",
          "name": "stdout",
          "text": [
            "\t\ttrain_loss: 0.819 \tval_loss: 0.866 \tlearning_rate: 3.946E-05\n",
            "############################################ New lowest_val_loss reached #########################\n"
          ]
        },
        {
          "output_type": "stream",
          "name": "stderr",
          "text": [
            "WARNING:absl:Found untraced functions such as embedding_layer_call_fn, embedding_layer_call_and_return_conditional_losses, dropout_2_layer_call_fn, dropout_2_layer_call_and_return_conditional_losses, layer_normalization_layer_call_fn while saving (showing 5 of 85). These functions will not be directly callable after loading.\n"
          ]
        },
        {
          "output_type": "stream",
          "name": "stdout",
          "text": [
            "\n",
            " Epoch: 7\n"
          ]
        },
        {
          "output_type": "stream",
          "name": "stderr",
          "text": [
            "100%|██████████| 63/63 [00:33<00:00,  1.90it/s]\n",
            "WARNING:tensorflow:Compiled the loaded model, but the compiled metrics have yet to be built. `model.compile_metrics` will be empty until you train or evaluate the model.\n"
          ]
        },
        {
          "output_type": "stream",
          "name": "stdout",
          "text": [
            "\t\ttrain_loss: 0.787 \tval_loss: 0.821 \tlearning_rate: 4.603E-05\n",
            "############################################ New lowest_val_loss reached #########################\n"
          ]
        },
        {
          "output_type": "stream",
          "name": "stderr",
          "text": [
            "WARNING:absl:Found untraced functions such as embedding_layer_call_fn, embedding_layer_call_and_return_conditional_losses, dropout_2_layer_call_fn, dropout_2_layer_call_and_return_conditional_losses, layer_normalization_layer_call_fn while saving (showing 5 of 85). These functions will not be directly callable after loading.\n"
          ]
        },
        {
          "output_type": "stream",
          "name": "stdout",
          "text": [
            "\n",
            " Epoch: 8\n"
          ]
        },
        {
          "output_type": "stream",
          "name": "stderr",
          "text": [
            "100%|██████████| 63/63 [00:33<00:00,  1.89it/s]\n",
            "WARNING:tensorflow:Compiled the loaded model, but the compiled metrics have yet to be built. `model.compile_metrics` will be empty until you train or evaluate the model.\n"
          ]
        },
        {
          "output_type": "stream",
          "name": "stdout",
          "text": [
            "\t\ttrain_loss: 0.757 \tval_loss: 0.763 \tlearning_rate: 5.261E-05\n",
            "############################################ New lowest_val_loss reached #########################\n"
          ]
        },
        {
          "output_type": "stream",
          "name": "stderr",
          "text": [
            "WARNING:absl:Found untraced functions such as embedding_layer_call_fn, embedding_layer_call_and_return_conditional_losses, dropout_2_layer_call_fn, dropout_2_layer_call_and_return_conditional_losses, layer_normalization_layer_call_fn while saving (showing 5 of 85). These functions will not be directly callable after loading.\n"
          ]
        },
        {
          "output_type": "stream",
          "name": "stdout",
          "text": [
            "\n",
            " Epoch: 9\n"
          ]
        },
        {
          "output_type": "stream",
          "name": "stderr",
          "text": [
            "100%|██████████| 63/63 [00:33<00:00,  1.89it/s]\n",
            "WARNING:tensorflow:Compiled the loaded model, but the compiled metrics have yet to be built. `model.compile_metrics` will be empty until you train or evaluate the model.\n"
          ]
        },
        {
          "output_type": "stream",
          "name": "stdout",
          "text": [
            "\t\ttrain_loss: 0.716 \tval_loss: 0.690 \tlearning_rate: 5.919E-05\n",
            "############################################ New lowest_val_loss reached #########################\n"
          ]
        },
        {
          "output_type": "stream",
          "name": "stderr",
          "text": [
            "WARNING:absl:Found untraced functions such as embedding_layer_call_fn, embedding_layer_call_and_return_conditional_losses, dropout_2_layer_call_fn, dropout_2_layer_call_and_return_conditional_losses, layer_normalization_layer_call_fn while saving (showing 5 of 85). These functions will not be directly callable after loading.\n"
          ]
        },
        {
          "output_type": "stream",
          "name": "stdout",
          "text": [
            "\n",
            " Epoch: 10\n"
          ]
        },
        {
          "output_type": "stream",
          "name": "stderr",
          "text": [
            "100%|██████████| 63/63 [00:33<00:00,  1.89it/s]\n",
            "WARNING:tensorflow:Compiled the loaded model, but the compiled metrics have yet to be built. `model.compile_metrics` will be empty until you train or evaluate the model.\n"
          ]
        },
        {
          "output_type": "stream",
          "name": "stdout",
          "text": [
            "\t\ttrain_loss: 0.684 \tval_loss: 0.642 \tlearning_rate: 6.576E-05\n",
            "############################################ New lowest_val_loss reached #########################\n"
          ]
        },
        {
          "output_type": "stream",
          "name": "stderr",
          "text": [
            "WARNING:absl:Found untraced functions such as embedding_layer_call_fn, embedding_layer_call_and_return_conditional_losses, dropout_2_layer_call_fn, dropout_2_layer_call_and_return_conditional_losses, layer_normalization_layer_call_fn while saving (showing 5 of 85). These functions will not be directly callable after loading.\n"
          ]
        },
        {
          "output_type": "stream",
          "name": "stdout",
          "text": [
            "\n",
            " Epoch: 11\n"
          ]
        },
        {
          "output_type": "stream",
          "name": "stderr",
          "text": [
            "100%|██████████| 63/63 [00:33<00:00,  1.89it/s]\n",
            "WARNING:tensorflow:Compiled the loaded model, but the compiled metrics have yet to be built. `model.compile_metrics` will be empty until you train or evaluate the model.\n"
          ]
        },
        {
          "output_type": "stream",
          "name": "stdout",
          "text": [
            "\t\ttrain_loss: 0.645 \tval_loss: 0.600 \tlearning_rate: 7.234E-05\n",
            "############################################ New lowest_val_loss reached #########################\n"
          ]
        },
        {
          "output_type": "stream",
          "name": "stderr",
          "text": [
            "WARNING:absl:Found untraced functions such as embedding_layer_call_fn, embedding_layer_call_and_return_conditional_losses, dropout_2_layer_call_fn, dropout_2_layer_call_and_return_conditional_losses, layer_normalization_layer_call_fn while saving (showing 5 of 85). These functions will not be directly callable after loading.\n"
          ]
        },
        {
          "output_type": "stream",
          "name": "stdout",
          "text": [
            "\n",
            " Epoch: 12\n"
          ]
        },
        {
          "output_type": "stream",
          "name": "stderr",
          "text": [
            "100%|██████████| 63/63 [00:33<00:00,  1.89it/s]\n",
            "WARNING:tensorflow:Compiled the loaded model, but the compiled metrics have yet to be built. `model.compile_metrics` will be empty until you train or evaluate the model.\n"
          ]
        },
        {
          "output_type": "stream",
          "name": "stdout",
          "text": [
            "\t\ttrain_loss: 0.618 \tval_loss: 0.573 \tlearning_rate: 7.891E-05\n",
            "############################################ New lowest_val_loss reached #########################\n"
          ]
        },
        {
          "output_type": "stream",
          "name": "stderr",
          "text": [
            "WARNING:absl:Found untraced functions such as embedding_layer_call_fn, embedding_layer_call_and_return_conditional_losses, dropout_2_layer_call_fn, dropout_2_layer_call_and_return_conditional_losses, layer_normalization_layer_call_fn while saving (showing 5 of 85). These functions will not be directly callable after loading.\n"
          ]
        },
        {
          "output_type": "stream",
          "name": "stdout",
          "text": [
            "\n",
            " Epoch: 13\n"
          ]
        },
        {
          "output_type": "stream",
          "name": "stderr",
          "text": [
            "100%|██████████| 63/63 [00:33<00:00,  1.89it/s]\n",
            "WARNING:tensorflow:Compiled the loaded model, but the compiled metrics have yet to be built. `model.compile_metrics` will be empty until you train or evaluate the model.\n"
          ]
        },
        {
          "output_type": "stream",
          "name": "stdout",
          "text": [
            "\t\ttrain_loss: 0.593 \tval_loss: 0.548 \tlearning_rate: 8.549E-05\n",
            "############################################ New lowest_val_loss reached #########################\n"
          ]
        },
        {
          "output_type": "stream",
          "name": "stderr",
          "text": [
            "WARNING:absl:Found untraced functions such as embedding_layer_call_fn, embedding_layer_call_and_return_conditional_losses, dropout_2_layer_call_fn, dropout_2_layer_call_and_return_conditional_losses, layer_normalization_layer_call_fn while saving (showing 5 of 85). These functions will not be directly callable after loading.\n"
          ]
        },
        {
          "output_type": "stream",
          "name": "stdout",
          "text": [
            "\n",
            " Epoch: 14\n"
          ]
        },
        {
          "output_type": "stream",
          "name": "stderr",
          "text": [
            "100%|██████████| 63/63 [00:33<00:00,  1.89it/s]\n",
            "WARNING:tensorflow:Compiled the loaded model, but the compiled metrics have yet to be built. `model.compile_metrics` will be empty until you train or evaluate the model.\n"
          ]
        },
        {
          "output_type": "stream",
          "name": "stdout",
          "text": [
            "\t\ttrain_loss: 0.572 \tval_loss: 0.534 \tlearning_rate: 9.207E-05\n",
            "############################################ New lowest_val_loss reached #########################\n"
          ]
        },
        {
          "output_type": "stream",
          "name": "stderr",
          "text": [
            "WARNING:absl:Found untraced functions such as embedding_layer_call_fn, embedding_layer_call_and_return_conditional_losses, dropout_2_layer_call_fn, dropout_2_layer_call_and_return_conditional_losses, layer_normalization_layer_call_fn while saving (showing 5 of 85). These functions will not be directly callable after loading.\n"
          ]
        },
        {
          "output_type": "stream",
          "name": "stdout",
          "text": [
            "\n",
            " Epoch: 15\n"
          ]
        },
        {
          "output_type": "stream",
          "name": "stderr",
          "text": [
            "100%|██████████| 63/63 [00:33<00:00,  1.90it/s]\n",
            "WARNING:tensorflow:Compiled the loaded model, but the compiled metrics have yet to be built. `model.compile_metrics` will be empty until you train or evaluate the model.\n"
          ]
        },
        {
          "output_type": "stream",
          "name": "stdout",
          "text": [
            "\t\ttrain_loss: 0.558 \tval_loss: 0.513 \tlearning_rate: 9.864E-05\n",
            "############################################ New lowest_val_loss reached #########################\n"
          ]
        },
        {
          "output_type": "stream",
          "name": "stderr",
          "text": [
            "WARNING:absl:Found untraced functions such as embedding_layer_call_fn, embedding_layer_call_and_return_conditional_losses, dropout_2_layer_call_fn, dropout_2_layer_call_and_return_conditional_losses, layer_normalization_layer_call_fn while saving (showing 5 of 85). These functions will not be directly callable after loading.\n"
          ]
        },
        {
          "output_type": "stream",
          "name": "stdout",
          "text": [
            "\n",
            " Epoch: 16\n"
          ]
        },
        {
          "output_type": "stream",
          "name": "stderr",
          "text": [
            "100%|██████████| 63/63 [00:33<00:00,  1.89it/s]\n",
            "WARNING:tensorflow:Compiled the loaded model, but the compiled metrics have yet to be built. `model.compile_metrics` will be empty until you train or evaluate the model.\n"
          ]
        },
        {
          "output_type": "stream",
          "name": "stdout",
          "text": [
            "\t\ttrain_loss: 0.547 \tval_loss: 0.501 \tlearning_rate: 1.052E-04\n",
            "############################################ New lowest_val_loss reached #########################\n"
          ]
        },
        {
          "output_type": "stream",
          "name": "stderr",
          "text": [
            "WARNING:absl:Found untraced functions such as embedding_layer_call_fn, embedding_layer_call_and_return_conditional_losses, dropout_2_layer_call_fn, dropout_2_layer_call_and_return_conditional_losses, layer_normalization_layer_call_fn while saving (showing 5 of 85). These functions will not be directly callable after loading.\n"
          ]
        },
        {
          "output_type": "stream",
          "name": "stdout",
          "text": [
            "\n",
            " Epoch: 17\n"
          ]
        },
        {
          "output_type": "stream",
          "name": "stderr",
          "text": [
            "100%|██████████| 63/63 [00:33<00:00,  1.89it/s]\n",
            "WARNING:tensorflow:Compiled the loaded model, but the compiled metrics have yet to be built. `model.compile_metrics` will be empty until you train or evaluate the model.\n"
          ]
        },
        {
          "output_type": "stream",
          "name": "stdout",
          "text": [
            "\t\ttrain_loss: 0.532 \tval_loss: 0.489 \tlearning_rate: 1.118E-04\n",
            "############################################ New lowest_val_loss reached #########################\n"
          ]
        },
        {
          "output_type": "stream",
          "name": "stderr",
          "text": [
            "WARNING:absl:Found untraced functions such as embedding_layer_call_fn, embedding_layer_call_and_return_conditional_losses, dropout_2_layer_call_fn, dropout_2_layer_call_and_return_conditional_losses, layer_normalization_layer_call_fn while saving (showing 5 of 85). These functions will not be directly callable after loading.\n"
          ]
        },
        {
          "output_type": "stream",
          "name": "stdout",
          "text": [
            "\n",
            " Epoch: 18\n"
          ]
        },
        {
          "output_type": "stream",
          "name": "stderr",
          "text": [
            "100%|██████████| 63/63 [00:33<00:00,  1.89it/s]\n",
            "WARNING:tensorflow:Compiled the loaded model, but the compiled metrics have yet to be built. `model.compile_metrics` will be empty until you train or evaluate the model.\n"
          ]
        },
        {
          "output_type": "stream",
          "name": "stdout",
          "text": [
            "\t\ttrain_loss: 0.523 \tval_loss: 0.484 \tlearning_rate: 1.184E-04\n",
            "############################################ New lowest_val_loss reached #########################\n"
          ]
        },
        {
          "output_type": "stream",
          "name": "stderr",
          "text": [
            "WARNING:absl:Found untraced functions such as embedding_layer_call_fn, embedding_layer_call_and_return_conditional_losses, dropout_2_layer_call_fn, dropout_2_layer_call_and_return_conditional_losses, layer_normalization_layer_call_fn while saving (showing 5 of 85). These functions will not be directly callable after loading.\n"
          ]
        },
        {
          "output_type": "stream",
          "name": "stdout",
          "text": [
            "\n",
            " Epoch: 19\n"
          ]
        },
        {
          "output_type": "stream",
          "name": "stderr",
          "text": [
            "100%|██████████| 63/63 [00:33<00:00,  1.90it/s]\n",
            "WARNING:tensorflow:Compiled the loaded model, but the compiled metrics have yet to be built. `model.compile_metrics` will be empty until you train or evaluate the model.\n"
          ]
        },
        {
          "output_type": "stream",
          "name": "stdout",
          "text": [
            "\t\ttrain_loss: 0.517 \tval_loss: 0.482 \tlearning_rate: 1.249E-04\n",
            "############################################ New lowest_val_loss reached #########################\n"
          ]
        },
        {
          "output_type": "stream",
          "name": "stderr",
          "text": [
            "WARNING:absl:Found untraced functions such as embedding_layer_call_fn, embedding_layer_call_and_return_conditional_losses, dropout_2_layer_call_fn, dropout_2_layer_call_and_return_conditional_losses, layer_normalization_layer_call_fn while saving (showing 5 of 85). These functions will not be directly callable after loading.\n"
          ]
        },
        {
          "output_type": "stream",
          "name": "stdout",
          "text": [
            "\n",
            " Epoch: 20\n"
          ]
        },
        {
          "output_type": "stream",
          "name": "stderr",
          "text": [
            "100%|██████████| 63/63 [00:33<00:00,  1.89it/s]\n",
            "WARNING:tensorflow:Compiled the loaded model, but the compiled metrics have yet to be built. `model.compile_metrics` will be empty until you train or evaluate the model.\n"
          ]
        },
        {
          "output_type": "stream",
          "name": "stdout",
          "text": [
            "\t\ttrain_loss: 0.513 \tval_loss: 0.470 \tlearning_rate: 1.315E-04\n",
            "############################################ New lowest_val_loss reached #########################\n"
          ]
        },
        {
          "output_type": "stream",
          "name": "stderr",
          "text": [
            "WARNING:absl:Found untraced functions such as embedding_layer_call_fn, embedding_layer_call_and_return_conditional_losses, dropout_2_layer_call_fn, dropout_2_layer_call_and_return_conditional_losses, layer_normalization_layer_call_fn while saving (showing 5 of 85). These functions will not be directly callable after loading.\n"
          ]
        },
        {
          "output_type": "stream",
          "name": "stdout",
          "text": [
            "\n",
            " Epoch: 21\n"
          ]
        },
        {
          "output_type": "stream",
          "name": "stderr",
          "text": [
            "100%|██████████| 63/63 [00:33<00:00,  1.89it/s]\n",
            "WARNING:tensorflow:Compiled the loaded model, but the compiled metrics have yet to be built. `model.compile_metrics` will be empty until you train or evaluate the model.\n"
          ]
        },
        {
          "output_type": "stream",
          "name": "stdout",
          "text": [
            "\t\ttrain_loss: 0.500 \tval_loss: 0.469 \tlearning_rate: 1.381E-04\n",
            "############################################ New lowest_val_loss reached #########################\n"
          ]
        },
        {
          "output_type": "stream",
          "name": "stderr",
          "text": [
            "WARNING:absl:Found untraced functions such as embedding_layer_call_fn, embedding_layer_call_and_return_conditional_losses, dropout_2_layer_call_fn, dropout_2_layer_call_and_return_conditional_losses, layer_normalization_layer_call_fn while saving (showing 5 of 85). These functions will not be directly callable after loading.\n"
          ]
        },
        {
          "output_type": "stream",
          "name": "stdout",
          "text": [
            "\n",
            " Epoch: 22\n"
          ]
        },
        {
          "output_type": "stream",
          "name": "stderr",
          "text": [
            "100%|██████████| 63/63 [00:33<00:00,  1.89it/s]\n",
            "WARNING:tensorflow:Compiled the loaded model, but the compiled metrics have yet to be built. `model.compile_metrics` will be empty until you train or evaluate the model.\n"
          ]
        },
        {
          "output_type": "stream",
          "name": "stdout",
          "text": [
            "\t\ttrain_loss: 0.497 \tval_loss: 0.461 \tlearning_rate: 1.447E-04\n",
            "############################################ New lowest_val_loss reached #########################\n"
          ]
        },
        {
          "output_type": "stream",
          "name": "stderr",
          "text": [
            "WARNING:absl:Found untraced functions such as embedding_layer_call_fn, embedding_layer_call_and_return_conditional_losses, dropout_2_layer_call_fn, dropout_2_layer_call_and_return_conditional_losses, layer_normalization_layer_call_fn while saving (showing 5 of 85). These functions will not be directly callable after loading.\n"
          ]
        },
        {
          "output_type": "stream",
          "name": "stdout",
          "text": [
            "\n",
            " Epoch: 23\n"
          ]
        },
        {
          "output_type": "stream",
          "name": "stderr",
          "text": [
            "100%|██████████| 63/63 [00:33<00:00,  1.89it/s]\n",
            "WARNING:tensorflow:Compiled the loaded model, but the compiled metrics have yet to be built. `model.compile_metrics` will be empty until you train or evaluate the model.\n"
          ]
        },
        {
          "output_type": "stream",
          "name": "stdout",
          "text": [
            "\t\ttrain_loss: 0.490 \tval_loss: 0.459 \tlearning_rate: 1.513E-04\n",
            "############################################ New lowest_val_loss reached #########################\n"
          ]
        },
        {
          "output_type": "stream",
          "name": "stderr",
          "text": [
            "WARNING:absl:Found untraced functions such as embedding_layer_call_fn, embedding_layer_call_and_return_conditional_losses, dropout_2_layer_call_fn, dropout_2_layer_call_and_return_conditional_losses, layer_normalization_layer_call_fn while saving (showing 5 of 85). These functions will not be directly callable after loading.\n"
          ]
        },
        {
          "output_type": "stream",
          "name": "stdout",
          "text": [
            "\n",
            " Epoch: 24\n"
          ]
        },
        {
          "output_type": "stream",
          "name": "stderr",
          "text": [
            "100%|██████████| 63/63 [00:33<00:00,  1.89it/s]\n"
          ]
        },
        {
          "output_type": "stream",
          "name": "stdout",
          "text": [
            "\t\ttrain_loss: 0.483 \tval_loss: 0.463 \tlearning_rate: 1.578E-04\n",
            "\n",
            " Epoch: 25\n"
          ]
        },
        {
          "output_type": "stream",
          "name": "stderr",
          "text": [
            "100%|██████████| 63/63 [00:33<00:00,  1.90it/s]\n",
            "WARNING:tensorflow:Compiled the loaded model, but the compiled metrics have yet to be built. `model.compile_metrics` will be empty until you train or evaluate the model.\n"
          ]
        },
        {
          "output_type": "stream",
          "name": "stdout",
          "text": [
            "\t\ttrain_loss: 0.485 \tval_loss: 0.450 \tlearning_rate: 1.644E-04\n",
            "############################################ New lowest_val_loss reached #########################\n"
          ]
        },
        {
          "output_type": "stream",
          "name": "stderr",
          "text": [
            "WARNING:absl:Found untraced functions such as embedding_layer_call_fn, embedding_layer_call_and_return_conditional_losses, dropout_2_layer_call_fn, dropout_2_layer_call_and_return_conditional_losses, layer_normalization_layer_call_fn while saving (showing 5 of 85). These functions will not be directly callable after loading.\n"
          ]
        },
        {
          "output_type": "stream",
          "name": "stdout",
          "text": [
            "\n",
            " Epoch: 26\n"
          ]
        },
        {
          "output_type": "stream",
          "name": "stderr",
          "text": [
            "100%|██████████| 63/63 [00:33<00:00,  1.89it/s]\n"
          ]
        },
        {
          "output_type": "stream",
          "name": "stdout",
          "text": [
            "\t\ttrain_loss: 0.479 \tval_loss: 0.455 \tlearning_rate: 1.710E-04\n",
            "\n",
            " Epoch: 27\n"
          ]
        },
        {
          "output_type": "stream",
          "name": "stderr",
          "text": [
            "100%|██████████| 63/63 [00:33<00:00,  1.89it/s]\n",
            "WARNING:tensorflow:Compiled the loaded model, but the compiled metrics have yet to be built. `model.compile_metrics` will be empty until you train or evaluate the model.\n"
          ]
        },
        {
          "output_type": "stream",
          "name": "stdout",
          "text": [
            "\t\ttrain_loss: 0.471 \tval_loss: 0.447 \tlearning_rate: 1.776E-04\n",
            "############################################ New lowest_val_loss reached #########################\n"
          ]
        },
        {
          "output_type": "stream",
          "name": "stderr",
          "text": [
            "WARNING:absl:Found untraced functions such as embedding_layer_call_fn, embedding_layer_call_and_return_conditional_losses, dropout_2_layer_call_fn, dropout_2_layer_call_and_return_conditional_losses, layer_normalization_layer_call_fn while saving (showing 5 of 85). These functions will not be directly callable after loading.\n"
          ]
        },
        {
          "output_type": "stream",
          "name": "stdout",
          "text": [
            "\n",
            " Epoch: 28\n"
          ]
        },
        {
          "output_type": "stream",
          "name": "stderr",
          "text": [
            "100%|██████████| 63/63 [00:33<00:00,  1.89it/s]\n",
            "WARNING:tensorflow:Compiled the loaded model, but the compiled metrics have yet to be built. `model.compile_metrics` will be empty until you train or evaluate the model.\n"
          ]
        },
        {
          "output_type": "stream",
          "name": "stdout",
          "text": [
            "\t\ttrain_loss: 0.466 \tval_loss: 0.445 \tlearning_rate: 1.841E-04\n",
            "############################################ New lowest_val_loss reached #########################\n"
          ]
        },
        {
          "output_type": "stream",
          "name": "stderr",
          "text": [
            "WARNING:absl:Found untraced functions such as embedding_layer_call_fn, embedding_layer_call_and_return_conditional_losses, dropout_2_layer_call_fn, dropout_2_layer_call_and_return_conditional_losses, layer_normalization_layer_call_fn while saving (showing 5 of 85). These functions will not be directly callable after loading.\n"
          ]
        },
        {
          "output_type": "stream",
          "name": "stdout",
          "text": [
            "\n",
            " Epoch: 29\n"
          ]
        },
        {
          "output_type": "stream",
          "name": "stderr",
          "text": [
            "100%|██████████| 63/63 [00:33<00:00,  1.89it/s]\n"
          ]
        },
        {
          "output_type": "stream",
          "name": "stdout",
          "text": [
            "\t\ttrain_loss: 0.463 \tval_loss: 0.447 \tlearning_rate: 1.907E-04\n",
            "\n",
            " Epoch: 30\n"
          ]
        },
        {
          "output_type": "stream",
          "name": "stderr",
          "text": [
            "100%|██████████| 63/63 [00:33<00:00,  1.90it/s]\n"
          ]
        },
        {
          "output_type": "stream",
          "name": "stdout",
          "text": [
            "\t\ttrain_loss: 0.460 \tval_loss: 0.448 \tlearning_rate: 1.973E-04\n",
            "\n",
            " Epoch: 31\n"
          ]
        },
        {
          "output_type": "stream",
          "name": "stderr",
          "text": [
            "100%|██████████| 63/63 [00:33<00:00,  1.90it/s]\n"
          ]
        },
        {
          "output_type": "stream",
          "name": "stdout",
          "text": [
            "\t\ttrain_loss: 0.457 \tval_loss: 0.471 \tlearning_rate: 1.793E-04\n",
            "\n",
            " Epoch: 32\n"
          ]
        },
        {
          "output_type": "stream",
          "name": "stderr",
          "text": [
            "100%|██████████| 63/63 [00:33<00:00,  1.90it/s]\n"
          ]
        },
        {
          "output_type": "stream",
          "name": "stdout",
          "text": [
            "\t\ttrain_loss: 0.449 \tval_loss: 0.453 \tlearning_rate: 1.787E-04\n",
            "\n",
            " Epoch: 33\n"
          ]
        },
        {
          "output_type": "stream",
          "name": "stderr",
          "text": [
            "100%|██████████| 63/63 [00:33<00:00,  1.90it/s]\n",
            "WARNING:tensorflow:Compiled the loaded model, but the compiled metrics have yet to be built. `model.compile_metrics` will be empty until you train or evaluate the model.\n"
          ]
        },
        {
          "output_type": "stream",
          "name": "stdout",
          "text": [
            "\t\ttrain_loss: 0.442 \tval_loss: 0.429 \tlearning_rate: 1.780E-04\n",
            "############################################ New lowest_val_loss reached #########################\n"
          ]
        },
        {
          "output_type": "stream",
          "name": "stderr",
          "text": [
            "WARNING:absl:Found untraced functions such as embedding_layer_call_fn, embedding_layer_call_and_return_conditional_losses, dropout_2_layer_call_fn, dropout_2_layer_call_and_return_conditional_losses, layer_normalization_layer_call_fn while saving (showing 5 of 85). These functions will not be directly callable after loading.\n"
          ]
        },
        {
          "output_type": "stream",
          "name": "stdout",
          "text": [
            "\n",
            " Epoch: 34\n"
          ]
        },
        {
          "output_type": "stream",
          "name": "stderr",
          "text": [
            "100%|██████████| 63/63 [00:33<00:00,  1.89it/s]\n"
          ]
        },
        {
          "output_type": "stream",
          "name": "stdout",
          "text": [
            "\t\ttrain_loss: 0.440 \tval_loss: 0.446 \tlearning_rate: 1.773E-04\n",
            "\n",
            " Epoch: 35\n"
          ]
        },
        {
          "output_type": "stream",
          "name": "stderr",
          "text": [
            "100%|██████████| 63/63 [00:33<00:00,  1.90it/s]\n"
          ]
        },
        {
          "output_type": "stream",
          "name": "stdout",
          "text": [
            "\t\ttrain_loss: 0.438 \tval_loss: 0.432 \tlearning_rate: 1.767E-04\n",
            "\n",
            " Epoch: 36\n"
          ]
        },
        {
          "output_type": "stream",
          "name": "stderr",
          "text": [
            "100%|██████████| 63/63 [00:33<00:00,  1.90it/s]\n"
          ]
        },
        {
          "output_type": "stream",
          "name": "stdout",
          "text": [
            "\t\ttrain_loss: 0.431 \tval_loss: 0.440 \tlearning_rate: 1.760E-04\n",
            "\n",
            " Epoch: 37\n"
          ]
        },
        {
          "output_type": "stream",
          "name": "stderr",
          "text": [
            "100%|██████████| 63/63 [00:33<00:00,  1.90it/s]\n"
          ]
        },
        {
          "output_type": "stream",
          "name": "stdout",
          "text": [
            "\t\ttrain_loss: 0.429 \tval_loss: 0.430 \tlearning_rate: 1.753E-04\n",
            "\n",
            " Epoch: 38\n"
          ]
        },
        {
          "output_type": "stream",
          "name": "stderr",
          "text": [
            "100%|██████████| 63/63 [00:33<00:00,  1.90it/s]\n",
            "WARNING:tensorflow:Compiled the loaded model, but the compiled metrics have yet to be built. `model.compile_metrics` will be empty until you train or evaluate the model.\n"
          ]
        },
        {
          "output_type": "stream",
          "name": "stdout",
          "text": [
            "\t\ttrain_loss: 0.427 \tval_loss: 0.421 \tlearning_rate: 1.747E-04\n",
            "############################################ New lowest_val_loss reached #########################\n"
          ]
        },
        {
          "output_type": "stream",
          "name": "stderr",
          "text": [
            "WARNING:absl:Found untraced functions such as embedding_layer_call_fn, embedding_layer_call_and_return_conditional_losses, dropout_2_layer_call_fn, dropout_2_layer_call_and_return_conditional_losses, layer_normalization_layer_call_fn while saving (showing 5 of 85). These functions will not be directly callable after loading.\n"
          ]
        },
        {
          "output_type": "stream",
          "name": "stdout",
          "text": [
            "\n",
            " Epoch: 39\n"
          ]
        },
        {
          "output_type": "stream",
          "name": "stderr",
          "text": [
            "100%|██████████| 63/63 [00:33<00:00,  1.89it/s]\n",
            "WARNING:tensorflow:Compiled the loaded model, but the compiled metrics have yet to be built. `model.compile_metrics` will be empty until you train or evaluate the model.\n"
          ]
        },
        {
          "output_type": "stream",
          "name": "stdout",
          "text": [
            "\t\ttrain_loss: 0.424 \tval_loss: 0.409 \tlearning_rate: 1.740E-04\n",
            "############################################ New lowest_val_loss reached #########################\n"
          ]
        },
        {
          "output_type": "stream",
          "name": "stderr",
          "text": [
            "WARNING:absl:Found untraced functions such as embedding_layer_call_fn, embedding_layer_call_and_return_conditional_losses, dropout_2_layer_call_fn, dropout_2_layer_call_and_return_conditional_losses, layer_normalization_layer_call_fn while saving (showing 5 of 85). These functions will not be directly callable after loading.\n"
          ]
        },
        {
          "output_type": "stream",
          "name": "stdout",
          "text": [
            "\n",
            " Epoch: 40\n"
          ]
        },
        {
          "output_type": "stream",
          "name": "stderr",
          "text": [
            "100%|██████████| 63/63 [00:33<00:00,  1.89it/s]\n"
          ]
        },
        {
          "output_type": "stream",
          "name": "stdout",
          "text": [
            "\t\ttrain_loss: 0.418 \tval_loss: 0.440 \tlearning_rate: 1.733E-04\n",
            "\n",
            " Epoch: 41\n"
          ]
        },
        {
          "output_type": "stream",
          "name": "stderr",
          "text": [
            "100%|██████████| 63/63 [00:33<00:00,  1.90it/s]\n"
          ]
        },
        {
          "output_type": "stream",
          "name": "stdout",
          "text": [
            "\t\ttrain_loss: 0.416 \tval_loss: 0.421 \tlearning_rate: 1.727E-04\n",
            "\n",
            " Epoch: 42\n"
          ]
        },
        {
          "output_type": "stream",
          "name": "stderr",
          "text": [
            "100%|██████████| 63/63 [00:33<00:00,  1.89it/s]\n"
          ]
        },
        {
          "output_type": "stream",
          "name": "stdout",
          "text": [
            "\t\ttrain_loss: 0.414 \tval_loss: 0.418 \tlearning_rate: 1.720E-04\n",
            "\n",
            " Epoch: 43\n"
          ]
        },
        {
          "output_type": "stream",
          "name": "stderr",
          "text": [
            "100%|██████████| 63/63 [00:33<00:00,  1.90it/s]\n",
            "WARNING:tensorflow:Compiled the loaded model, but the compiled metrics have yet to be built. `model.compile_metrics` will be empty until you train or evaluate the model.\n"
          ]
        },
        {
          "output_type": "stream",
          "name": "stdout",
          "text": [
            "\t\ttrain_loss: 0.415 \tval_loss: 0.405 \tlearning_rate: 1.713E-04\n",
            "############################################ New lowest_val_loss reached #########################\n"
          ]
        },
        {
          "output_type": "stream",
          "name": "stderr",
          "text": [
            "WARNING:absl:Found untraced functions such as embedding_layer_call_fn, embedding_layer_call_and_return_conditional_losses, dropout_2_layer_call_fn, dropout_2_layer_call_and_return_conditional_losses, layer_normalization_layer_call_fn while saving (showing 5 of 85). These functions will not be directly callable after loading.\n"
          ]
        },
        {
          "output_type": "stream",
          "name": "stdout",
          "text": [
            "\n",
            " Epoch: 44\n"
          ]
        },
        {
          "output_type": "stream",
          "name": "stderr",
          "text": [
            "100%|██████████| 63/63 [00:33<00:00,  1.89it/s]\n"
          ]
        },
        {
          "output_type": "stream",
          "name": "stdout",
          "text": [
            "\t\ttrain_loss: 0.409 \tval_loss: 0.423 \tlearning_rate: 1.707E-04\n",
            "\n",
            " Epoch: 45\n"
          ]
        },
        {
          "output_type": "stream",
          "name": "stderr",
          "text": [
            "100%|██████████| 63/63 [00:33<00:00,  1.90it/s]\n",
            "WARNING:tensorflow:Compiled the loaded model, but the compiled metrics have yet to be built. `model.compile_metrics` will be empty until you train or evaluate the model.\n"
          ]
        },
        {
          "output_type": "stream",
          "name": "stdout",
          "text": [
            "\t\ttrain_loss: 0.411 \tval_loss: 0.400 \tlearning_rate: 1.700E-04\n",
            "############################################ New lowest_val_loss reached #########################\n"
          ]
        },
        {
          "output_type": "stream",
          "name": "stderr",
          "text": [
            "WARNING:absl:Found untraced functions such as embedding_layer_call_fn, embedding_layer_call_and_return_conditional_losses, dropout_2_layer_call_fn, dropout_2_layer_call_and_return_conditional_losses, layer_normalization_layer_call_fn while saving (showing 5 of 85). These functions will not be directly callable after loading.\n"
          ]
        },
        {
          "output_type": "stream",
          "name": "stdout",
          "text": [
            "\n",
            " Epoch: 46\n"
          ]
        },
        {
          "output_type": "stream",
          "name": "stderr",
          "text": [
            "100%|██████████| 63/63 [00:33<00:00,  1.89it/s]\n"
          ]
        },
        {
          "output_type": "stream",
          "name": "stdout",
          "text": [
            "\t\ttrain_loss: 0.403 \tval_loss: 0.454 \tlearning_rate: 1.693E-04\n",
            "\n",
            " Epoch: 47\n"
          ]
        },
        {
          "output_type": "stream",
          "name": "stderr",
          "text": [
            "100%|██████████| 63/63 [00:33<00:00,  1.90it/s]\n",
            "WARNING:tensorflow:Compiled the loaded model, but the compiled metrics have yet to be built. `model.compile_metrics` will be empty until you train or evaluate the model.\n"
          ]
        },
        {
          "output_type": "stream",
          "name": "stdout",
          "text": [
            "\t\ttrain_loss: 0.406 \tval_loss: 0.398 \tlearning_rate: 1.687E-04\n",
            "############################################ New lowest_val_loss reached #########################\n"
          ]
        },
        {
          "output_type": "stream",
          "name": "stderr",
          "text": [
            "WARNING:absl:Found untraced functions such as embedding_layer_call_fn, embedding_layer_call_and_return_conditional_losses, dropout_2_layer_call_fn, dropout_2_layer_call_and_return_conditional_losses, layer_normalization_layer_call_fn while saving (showing 5 of 85). These functions will not be directly callable after loading.\n"
          ]
        },
        {
          "output_type": "stream",
          "name": "stdout",
          "text": [
            "\n",
            " Epoch: 48\n"
          ]
        },
        {
          "output_type": "stream",
          "name": "stderr",
          "text": [
            "100%|██████████| 63/63 [00:33<00:00,  1.89it/s]\n"
          ]
        },
        {
          "output_type": "stream",
          "name": "stdout",
          "text": [
            "\t\ttrain_loss: 0.400 \tval_loss: 0.406 \tlearning_rate: 1.680E-04\n",
            "\n",
            " Epoch: 49\n"
          ]
        },
        {
          "output_type": "stream",
          "name": "stderr",
          "text": [
            "100%|██████████| 63/63 [00:33<00:00,  1.89it/s]\n"
          ]
        },
        {
          "output_type": "stream",
          "name": "stdout",
          "text": [
            "\t\ttrain_loss: 0.398 \tval_loss: 0.435 \tlearning_rate: 1.673E-04\n",
            "\n",
            " Epoch: 50\n"
          ]
        },
        {
          "output_type": "stream",
          "name": "stderr",
          "text": [
            "100%|██████████| 63/63 [00:33<00:00,  1.90it/s]\n"
          ]
        },
        {
          "output_type": "stream",
          "name": "stdout",
          "text": [
            "\t\ttrain_loss: 0.400 \tval_loss: 0.425 \tlearning_rate: 1.667E-04\n",
            "\n",
            " Epoch: 51\n"
          ]
        },
        {
          "output_type": "stream",
          "name": "stderr",
          "text": [
            "100%|██████████| 63/63 [00:33<00:00,  1.90it/s]\n"
          ]
        },
        {
          "output_type": "stream",
          "name": "stdout",
          "text": [
            "\t\ttrain_loss: 0.398 \tval_loss: 0.405 \tlearning_rate: 1.660E-04\n",
            "\n",
            " Epoch: 52\n"
          ]
        },
        {
          "output_type": "stream",
          "name": "stderr",
          "text": [
            "100%|██████████| 63/63 [00:33<00:00,  1.90it/s]\n"
          ]
        },
        {
          "output_type": "stream",
          "name": "stdout",
          "text": [
            "\t\ttrain_loss: 0.395 \tval_loss: 0.460 \tlearning_rate: 1.653E-04\n",
            "\n",
            " Epoch: 53\n"
          ]
        },
        {
          "output_type": "stream",
          "name": "stderr",
          "text": [
            "100%|██████████| 63/63 [00:33<00:00,  1.90it/s]\n"
          ]
        },
        {
          "output_type": "stream",
          "name": "stdout",
          "text": [
            "\t\ttrain_loss: 0.393 \tval_loss: 0.406 \tlearning_rate: 1.647E-04\n",
            "\n",
            " Epoch: 54\n"
          ]
        },
        {
          "output_type": "stream",
          "name": "stderr",
          "text": [
            "100%|██████████| 63/63 [00:33<00:00,  1.90it/s]\n",
            "WARNING:tensorflow:Compiled the loaded model, but the compiled metrics have yet to be built. `model.compile_metrics` will be empty until you train or evaluate the model.\n"
          ]
        },
        {
          "output_type": "stream",
          "name": "stdout",
          "text": [
            "\t\ttrain_loss: 0.389 \tval_loss: 0.395 \tlearning_rate: 1.640E-04\n",
            "############################################ New lowest_val_loss reached #########################\n"
          ]
        },
        {
          "output_type": "stream",
          "name": "stderr",
          "text": [
            "WARNING:absl:Found untraced functions such as embedding_layer_call_fn, embedding_layer_call_and_return_conditional_losses, dropout_2_layer_call_fn, dropout_2_layer_call_and_return_conditional_losses, layer_normalization_layer_call_fn while saving (showing 5 of 85). These functions will not be directly callable after loading.\n"
          ]
        },
        {
          "output_type": "stream",
          "name": "stdout",
          "text": [
            "\n",
            " Epoch: 55\n"
          ]
        },
        {
          "output_type": "stream",
          "name": "stderr",
          "text": [
            "100%|██████████| 63/63 [00:33<00:00,  1.89it/s]\n"
          ]
        },
        {
          "output_type": "stream",
          "name": "stdout",
          "text": [
            "\t\ttrain_loss: 0.391 \tval_loss: 0.398 \tlearning_rate: 1.633E-04\n",
            "\n",
            " Epoch: 56\n"
          ]
        },
        {
          "output_type": "stream",
          "name": "stderr",
          "text": [
            "100%|██████████| 63/63 [00:33<00:00,  1.90it/s]\n"
          ]
        },
        {
          "output_type": "stream",
          "name": "stdout",
          "text": [
            "\t\ttrain_loss: 0.389 \tval_loss: 0.409 \tlearning_rate: 1.627E-04\n",
            "\n",
            " Epoch: 57\n"
          ]
        },
        {
          "output_type": "stream",
          "name": "stderr",
          "text": [
            "100%|██████████| 63/63 [00:33<00:00,  1.90it/s]\n"
          ]
        },
        {
          "output_type": "stream",
          "name": "stdout",
          "text": [
            "\t\ttrain_loss: 0.386 \tval_loss: 0.529 \tlearning_rate: 1.620E-04\n",
            "\n",
            " Epoch: 58\n"
          ]
        },
        {
          "output_type": "stream",
          "name": "stderr",
          "text": [
            "100%|██████████| 63/63 [00:33<00:00,  1.90it/s]\n"
          ]
        },
        {
          "output_type": "stream",
          "name": "stdout",
          "text": [
            "\t\ttrain_loss: 0.384 \tval_loss: 0.435 \tlearning_rate: 1.613E-04\n",
            "\n",
            " Epoch: 59\n"
          ]
        },
        {
          "output_type": "stream",
          "name": "stderr",
          "text": [
            "100%|██████████| 63/63 [00:33<00:00,  1.90it/s]\n",
            "WARNING:tensorflow:Compiled the loaded model, but the compiled metrics have yet to be built. `model.compile_metrics` will be empty until you train or evaluate the model.\n"
          ]
        },
        {
          "output_type": "stream",
          "name": "stdout",
          "text": [
            "\t\ttrain_loss: 0.384 \tval_loss: 0.393 \tlearning_rate: 1.607E-04\n",
            "############################################ New lowest_val_loss reached #########################\n"
          ]
        },
        {
          "output_type": "stream",
          "name": "stderr",
          "text": [
            "WARNING:absl:Found untraced functions such as embedding_layer_call_fn, embedding_layer_call_and_return_conditional_losses, dropout_2_layer_call_fn, dropout_2_layer_call_and_return_conditional_losses, layer_normalization_layer_call_fn while saving (showing 5 of 85). These functions will not be directly callable after loading.\n"
          ]
        },
        {
          "output_type": "stream",
          "name": "stdout",
          "text": [
            "\n",
            " Epoch: 60\n"
          ]
        },
        {
          "output_type": "stream",
          "name": "stderr",
          "text": [
            "100%|██████████| 63/63 [00:33<00:00,  1.89it/s]\n"
          ]
        },
        {
          "output_type": "stream",
          "name": "stdout",
          "text": [
            "\t\ttrain_loss: 0.383 \tval_loss: 0.445 \tlearning_rate: 1.600E-04\n",
            "\n",
            " Epoch: 61\n"
          ]
        },
        {
          "output_type": "stream",
          "name": "stderr",
          "text": [
            "100%|██████████| 63/63 [00:33<00:00,  1.90it/s]\n"
          ]
        },
        {
          "output_type": "stream",
          "name": "stdout",
          "text": [
            "\t\ttrain_loss: 0.382 \tval_loss: 0.396 \tlearning_rate: 1.593E-04\n",
            "\n",
            " Epoch: 62\n"
          ]
        },
        {
          "output_type": "stream",
          "name": "stderr",
          "text": [
            "100%|██████████| 63/63 [00:33<00:00,  1.90it/s]\n"
          ]
        },
        {
          "output_type": "stream",
          "name": "stdout",
          "text": [
            "\t\ttrain_loss: 0.384 \tval_loss: 0.401 \tlearning_rate: 1.587E-04\n",
            "\n",
            " Epoch: 63\n"
          ]
        },
        {
          "output_type": "stream",
          "name": "stderr",
          "text": [
            "100%|██████████| 63/63 [00:33<00:00,  1.89it/s]\n"
          ]
        },
        {
          "output_type": "stream",
          "name": "stdout",
          "text": [
            "\t\ttrain_loss: 0.384 \tval_loss: 0.411 \tlearning_rate: 1.580E-04\n",
            "\n",
            " Epoch: 64\n"
          ]
        },
        {
          "output_type": "stream",
          "name": "stderr",
          "text": [
            "100%|██████████| 63/63 [00:33<00:00,  1.90it/s]\n"
          ]
        },
        {
          "output_type": "stream",
          "name": "stdout",
          "text": [
            "\t\ttrain_loss: 0.384 \tval_loss: 0.402 \tlearning_rate: 1.573E-04\n",
            "\n",
            " Epoch: 65\n"
          ]
        },
        {
          "output_type": "stream",
          "name": "stderr",
          "text": [
            "100%|██████████| 63/63 [00:33<00:00,  1.89it/s]\n"
          ]
        },
        {
          "output_type": "stream",
          "name": "stdout",
          "text": [
            "\t\ttrain_loss: 0.379 \tval_loss: 0.456 \tlearning_rate: 1.567E-04\n",
            "\n",
            " Epoch: 66\n"
          ]
        },
        {
          "output_type": "stream",
          "name": "stderr",
          "text": [
            "100%|██████████| 63/63 [00:33<00:00,  1.90it/s]\n"
          ]
        },
        {
          "output_type": "stream",
          "name": "stdout",
          "text": [
            "\t\ttrain_loss: 0.377 \tval_loss: 0.411 \tlearning_rate: 1.560E-04\n",
            "\n",
            " Epoch: 67\n"
          ]
        },
        {
          "output_type": "stream",
          "name": "stderr",
          "text": [
            "100%|██████████| 63/63 [00:33<00:00,  1.89it/s]\n"
          ]
        },
        {
          "output_type": "stream",
          "name": "stdout",
          "text": [
            "\t\ttrain_loss: 0.375 \tval_loss: 0.445 \tlearning_rate: 1.553E-04\n",
            "\n",
            " Epoch: 68\n"
          ]
        },
        {
          "output_type": "stream",
          "name": "stderr",
          "text": [
            "100%|██████████| 63/63 [00:33<00:00,  1.90it/s]\n"
          ]
        },
        {
          "output_type": "stream",
          "name": "stdout",
          "text": [
            "\t\ttrain_loss: 0.377 \tval_loss: 0.396 \tlearning_rate: 1.547E-04\n",
            "\n",
            " Epoch: 69\n"
          ]
        },
        {
          "output_type": "stream",
          "name": "stderr",
          "text": [
            "100%|██████████| 63/63 [00:33<00:00,  1.89it/s]\n"
          ]
        },
        {
          "output_type": "stream",
          "name": "stdout",
          "text": [
            "\t\ttrain_loss: 0.374 \tval_loss: 0.409 \tlearning_rate: 1.540E-04\n",
            "\n",
            " Epoch: 70\n"
          ]
        },
        {
          "output_type": "stream",
          "name": "stderr",
          "text": [
            "100%|██████████| 63/63 [00:33<00:00,  1.89it/s]\n"
          ]
        },
        {
          "output_type": "stream",
          "name": "stdout",
          "text": [
            "\t\ttrain_loss: 0.373 \tval_loss: 0.626 \tlearning_rate: 1.533E-04\n",
            "\n",
            " Epoch: 71\n"
          ]
        },
        {
          "output_type": "stream",
          "name": "stderr",
          "text": [
            "100%|██████████| 63/63 [00:33<00:00,  1.90it/s]\n"
          ]
        },
        {
          "output_type": "stream",
          "name": "stdout",
          "text": [
            "\t\ttrain_loss: 0.375 \tval_loss: 0.555 \tlearning_rate: 1.527E-04\n",
            "\n",
            " Epoch: 72\n"
          ]
        },
        {
          "output_type": "stream",
          "name": "stderr",
          "text": [
            "100%|██████████| 63/63 [00:33<00:00,  1.89it/s]\n"
          ]
        },
        {
          "output_type": "stream",
          "name": "stdout",
          "text": [
            "\t\ttrain_loss: 0.375 \tval_loss: 0.452 \tlearning_rate: 1.520E-04\n",
            "\n",
            " Epoch: 73\n"
          ]
        },
        {
          "output_type": "stream",
          "name": "stderr",
          "text": [
            "100%|██████████| 63/63 [00:33<00:00,  1.89it/s]\n"
          ]
        },
        {
          "output_type": "stream",
          "name": "stdout",
          "text": [
            "\t\ttrain_loss: 0.371 \tval_loss: 0.597 \tlearning_rate: 1.513E-04\n",
            "\n",
            " Epoch: 74\n"
          ]
        },
        {
          "output_type": "stream",
          "name": "stderr",
          "text": [
            "100%|██████████| 63/63 [00:33<00:00,  1.90it/s]\n"
          ]
        },
        {
          "output_type": "stream",
          "name": "stdout",
          "text": [
            "\t\ttrain_loss: 0.370 \tval_loss: 0.516 \tlearning_rate: 1.507E-04\n",
            "\n",
            " Epoch: 75\n"
          ]
        },
        {
          "output_type": "stream",
          "name": "stderr",
          "text": [
            "100%|██████████| 63/63 [00:33<00:00,  1.90it/s]\n"
          ]
        },
        {
          "output_type": "stream",
          "name": "stdout",
          "text": [
            "\t\ttrain_loss: 0.367 \tval_loss: 0.467 \tlearning_rate: 1.500E-04\n",
            "\n",
            " Epoch: 76\n"
          ]
        },
        {
          "output_type": "stream",
          "name": "stderr",
          "text": [
            "100%|██████████| 63/63 [00:33<00:00,  1.90it/s]\n"
          ]
        },
        {
          "output_type": "stream",
          "name": "stdout",
          "text": [
            "\t\ttrain_loss: 0.369 \tval_loss: 0.450 \tlearning_rate: 1.493E-04\n",
            "\n",
            " Epoch: 77\n"
          ]
        },
        {
          "output_type": "stream",
          "name": "stderr",
          "text": [
            "100%|██████████| 63/63 [00:33<00:00,  1.90it/s]\n"
          ]
        },
        {
          "output_type": "stream",
          "name": "stdout",
          "text": [
            "\t\ttrain_loss: 0.369 \tval_loss: 0.424 \tlearning_rate: 1.487E-04\n",
            "\n",
            " Epoch: 78\n"
          ]
        },
        {
          "output_type": "stream",
          "name": "stderr",
          "text": [
            "100%|██████████| 63/63 [00:33<00:00,  1.90it/s]\n"
          ]
        },
        {
          "output_type": "stream",
          "name": "stdout",
          "text": [
            "\t\ttrain_loss: 0.366 \tval_loss: 0.438 \tlearning_rate: 1.480E-04\n",
            "\n",
            " Epoch: 79\n"
          ]
        },
        {
          "output_type": "stream",
          "name": "stderr",
          "text": [
            "100%|██████████| 63/63 [00:33<00:00,  1.90it/s]\n"
          ]
        },
        {
          "output_type": "stream",
          "name": "stdout",
          "text": [
            "\t\ttrain_loss: 0.369 \tval_loss: 0.407 \tlearning_rate: 1.473E-04\n",
            "\n",
            " Epoch: 80\n"
          ]
        },
        {
          "output_type": "stream",
          "name": "stderr",
          "text": [
            "100%|██████████| 63/63 [00:33<00:00,  1.90it/s]\n"
          ]
        },
        {
          "output_type": "stream",
          "name": "stdout",
          "text": [
            "\t\ttrain_loss: 0.364 \tval_loss: 0.442 \tlearning_rate: 1.467E-04\n",
            "\n",
            " Epoch: 81\n"
          ]
        },
        {
          "output_type": "stream",
          "name": "stderr",
          "text": [
            "100%|██████████| 63/63 [00:33<00:00,  1.90it/s]\n"
          ]
        },
        {
          "output_type": "stream",
          "name": "stdout",
          "text": [
            "\t\ttrain_loss: 0.363 \tval_loss: 0.407 \tlearning_rate: 1.460E-04\n",
            "\n",
            " Epoch: 82\n"
          ]
        },
        {
          "output_type": "stream",
          "name": "stderr",
          "text": [
            "100%|██████████| 63/63 [00:33<00:00,  1.90it/s]\n"
          ]
        },
        {
          "output_type": "stream",
          "name": "stdout",
          "text": [
            "\t\ttrain_loss: 0.365 \tval_loss: 0.421 \tlearning_rate: 1.453E-04\n",
            "\n",
            " Epoch: 83\n"
          ]
        },
        {
          "output_type": "stream",
          "name": "stderr",
          "text": [
            "100%|██████████| 63/63 [00:33<00:00,  1.89it/s]\n"
          ]
        },
        {
          "output_type": "stream",
          "name": "stdout",
          "text": [
            "\t\ttrain_loss: 0.367 \tval_loss: 0.393 \tlearning_rate: 1.447E-04\n",
            "\n",
            " Epoch: 84\n"
          ]
        },
        {
          "output_type": "stream",
          "name": "stderr",
          "text": [
            "100%|██████████| 63/63 [00:33<00:00,  1.89it/s]\n"
          ]
        },
        {
          "output_type": "stream",
          "name": "stdout",
          "text": [
            "\t\ttrain_loss: 0.363 \tval_loss: 0.394 \tlearning_rate: 1.440E-04\n",
            "\n",
            " Epoch: 85\n"
          ]
        },
        {
          "output_type": "stream",
          "name": "stderr",
          "text": [
            "100%|██████████| 63/63 [00:33<00:00,  1.90it/s]\n",
            "WARNING:tensorflow:Compiled the loaded model, but the compiled metrics have yet to be built. `model.compile_metrics` will be empty until you train or evaluate the model.\n"
          ]
        },
        {
          "output_type": "stream",
          "name": "stdout",
          "text": [
            "\t\ttrain_loss: 0.364 \tval_loss: 0.390 \tlearning_rate: 1.433E-04\n",
            "############################################ New lowest_val_loss reached #########################\n"
          ]
        },
        {
          "output_type": "stream",
          "name": "stderr",
          "text": [
            "WARNING:absl:Found untraced functions such as embedding_layer_call_fn, embedding_layer_call_and_return_conditional_losses, dropout_2_layer_call_fn, dropout_2_layer_call_and_return_conditional_losses, layer_normalization_layer_call_fn while saving (showing 5 of 85). These functions will not be directly callable after loading.\n"
          ]
        },
        {
          "output_type": "stream",
          "name": "stdout",
          "text": [
            "\n",
            " Epoch: 86\n"
          ]
        },
        {
          "output_type": "stream",
          "name": "stderr",
          "text": [
            "100%|██████████| 63/63 [00:33<00:00,  1.89it/s]\n"
          ]
        },
        {
          "output_type": "stream",
          "name": "stdout",
          "text": [
            "\t\ttrain_loss: 0.361 \tval_loss: 0.401 \tlearning_rate: 1.427E-04\n",
            "\n",
            " Epoch: 87\n"
          ]
        },
        {
          "output_type": "stream",
          "name": "stderr",
          "text": [
            "100%|██████████| 63/63 [00:33<00:00,  1.90it/s]\n"
          ]
        },
        {
          "output_type": "stream",
          "name": "stdout",
          "text": [
            "\t\ttrain_loss: 0.360 \tval_loss: 0.404 \tlearning_rate: 1.420E-04\n",
            "\n",
            " Epoch: 88\n"
          ]
        },
        {
          "output_type": "stream",
          "name": "stderr",
          "text": [
            "100%|██████████| 63/63 [00:33<00:00,  1.90it/s]\n"
          ]
        },
        {
          "output_type": "stream",
          "name": "stdout",
          "text": [
            "\t\ttrain_loss: 0.360 \tval_loss: 0.411 \tlearning_rate: 1.413E-04\n",
            "\n",
            " Epoch: 89\n"
          ]
        },
        {
          "output_type": "stream",
          "name": "stderr",
          "text": [
            "100%|██████████| 63/63 [00:33<00:00,  1.89it/s]\n"
          ]
        },
        {
          "output_type": "stream",
          "name": "stdout",
          "text": [
            "\t\ttrain_loss: 0.359 \tval_loss: 0.462 \tlearning_rate: 1.407E-04\n",
            "\n",
            " Epoch: 90\n"
          ]
        },
        {
          "output_type": "stream",
          "name": "stderr",
          "text": [
            "100%|██████████| 63/63 [00:33<00:00,  1.90it/s]\n"
          ]
        },
        {
          "output_type": "stream",
          "name": "stdout",
          "text": [
            "\t\ttrain_loss: 0.360 \tval_loss: 0.410 \tlearning_rate: 1.400E-04\n",
            "\n",
            " Epoch: 91\n"
          ]
        },
        {
          "output_type": "stream",
          "name": "stderr",
          "text": [
            "100%|██████████| 63/63 [00:33<00:00,  1.90it/s]\n"
          ]
        },
        {
          "output_type": "stream",
          "name": "stdout",
          "text": [
            "\t\ttrain_loss: 0.361 \tval_loss: 0.406 \tlearning_rate: 1.393E-04\n",
            "\n",
            " Epoch: 92\n"
          ]
        },
        {
          "output_type": "stream",
          "name": "stderr",
          "text": [
            "100%|██████████| 63/63 [00:33<00:00,  1.89it/s]\n"
          ]
        },
        {
          "output_type": "stream",
          "name": "stdout",
          "text": [
            "\t\ttrain_loss: 0.360 \tval_loss: 0.485 \tlearning_rate: 1.387E-04\n",
            "\n",
            " Epoch: 93\n"
          ]
        },
        {
          "output_type": "stream",
          "name": "stderr",
          "text": [
            "100%|██████████| 63/63 [00:33<00:00,  1.90it/s]\n"
          ]
        },
        {
          "output_type": "stream",
          "name": "stdout",
          "text": [
            "\t\ttrain_loss: 0.356 \tval_loss: 0.490 \tlearning_rate: 1.380E-04\n",
            "\n",
            " Epoch: 94\n"
          ]
        },
        {
          "output_type": "stream",
          "name": "stderr",
          "text": [
            "100%|██████████| 63/63 [00:33<00:00,  1.90it/s]\n"
          ]
        },
        {
          "output_type": "stream",
          "name": "stdout",
          "text": [
            "\t\ttrain_loss: 0.357 \tval_loss: 0.457 \tlearning_rate: 1.373E-04\n",
            "\n",
            " Epoch: 95\n"
          ]
        },
        {
          "output_type": "stream",
          "name": "stderr",
          "text": [
            "100%|██████████| 63/63 [00:33<00:00,  1.90it/s]\n"
          ]
        },
        {
          "output_type": "stream",
          "name": "stdout",
          "text": [
            "\t\ttrain_loss: 0.353 \tval_loss: 0.491 \tlearning_rate: 1.367E-04\n",
            "\n",
            " Epoch: 96\n"
          ]
        },
        {
          "output_type": "stream",
          "name": "stderr",
          "text": [
            "100%|██████████| 63/63 [00:33<00:00,  1.90it/s]\n"
          ]
        },
        {
          "output_type": "stream",
          "name": "stdout",
          "text": [
            "\t\ttrain_loss: 0.356 \tval_loss: 0.451 \tlearning_rate: 1.360E-04\n",
            "\n",
            " Epoch: 97\n"
          ]
        },
        {
          "output_type": "stream",
          "name": "stderr",
          "text": [
            "100%|██████████| 63/63 [00:33<00:00,  1.90it/s]\n"
          ]
        },
        {
          "output_type": "stream",
          "name": "stdout",
          "text": [
            "\t\ttrain_loss: 0.353 \tval_loss: 0.485 \tlearning_rate: 1.353E-04\n",
            "\n",
            " Epoch: 98\n"
          ]
        },
        {
          "output_type": "stream",
          "name": "stderr",
          "text": [
            "100%|██████████| 63/63 [00:33<00:00,  1.90it/s]\n"
          ]
        },
        {
          "output_type": "stream",
          "name": "stdout",
          "text": [
            "\t\ttrain_loss: 0.352 \tval_loss: 0.436 \tlearning_rate: 1.347E-04\n",
            "\n",
            " Epoch: 99\n"
          ]
        },
        {
          "output_type": "stream",
          "name": "stderr",
          "text": [
            "100%|██████████| 63/63 [00:33<00:00,  1.89it/s]\n"
          ]
        },
        {
          "output_type": "stream",
          "name": "stdout",
          "text": [
            "\t\ttrain_loss: 0.355 \tval_loss: 0.471 \tlearning_rate: 1.340E-04\n",
            "\n",
            " Epoch: 100\n"
          ]
        },
        {
          "output_type": "stream",
          "name": "stderr",
          "text": [
            "100%|██████████| 63/63 [00:33<00:00,  1.90it/s]\n"
          ]
        },
        {
          "output_type": "stream",
          "name": "stdout",
          "text": [
            "\t\ttrain_loss: 0.348 \tval_loss: 0.413 \tlearning_rate: 1.333E-04\n",
            "\n",
            " Epoch: 101\n"
          ]
        },
        {
          "output_type": "stream",
          "name": "stderr",
          "text": [
            "100%|██████████| 63/63 [00:33<00:00,  1.90it/s]\n"
          ]
        },
        {
          "output_type": "stream",
          "name": "stdout",
          "text": [
            "\t\ttrain_loss: 0.349 \tval_loss: 0.419 \tlearning_rate: 1.327E-04\n",
            "\n",
            " Epoch: 102\n"
          ]
        },
        {
          "output_type": "stream",
          "name": "stderr",
          "text": [
            "100%|██████████| 63/63 [00:33<00:00,  1.90it/s]\n"
          ]
        },
        {
          "output_type": "stream",
          "name": "stdout",
          "text": [
            "\t\ttrain_loss: 0.348 \tval_loss: 0.392 \tlearning_rate: 1.320E-04\n",
            "\n",
            " Epoch: 103\n"
          ]
        },
        {
          "output_type": "stream",
          "name": "stderr",
          "text": [
            "100%|██████████| 63/63 [00:33<00:00,  1.90it/s]\n"
          ]
        },
        {
          "output_type": "stream",
          "name": "stdout",
          "text": [
            "\t\ttrain_loss: 0.350 \tval_loss: 0.410 \tlearning_rate: 1.313E-04\n",
            "\n",
            " Epoch: 104\n"
          ]
        },
        {
          "output_type": "stream",
          "name": "stderr",
          "text": [
            "100%|██████████| 63/63 [00:33<00:00,  1.90it/s]\n"
          ]
        },
        {
          "output_type": "stream",
          "name": "stdout",
          "text": [
            "\t\ttrain_loss: 0.346 \tval_loss: 0.399 \tlearning_rate: 1.307E-04\n",
            "\n",
            " Epoch: 105\n"
          ]
        },
        {
          "output_type": "stream",
          "name": "stderr",
          "text": [
            "100%|██████████| 63/63 [00:33<00:00,  1.90it/s]\n"
          ]
        },
        {
          "output_type": "stream",
          "name": "stdout",
          "text": [
            "\t\ttrain_loss: 0.347 \tval_loss: 0.400 \tlearning_rate: 1.300E-04\n",
            "\n",
            " Epoch: 106\n"
          ]
        },
        {
          "output_type": "stream",
          "name": "stderr",
          "text": [
            "100%|██████████| 63/63 [00:33<00:00,  1.90it/s]\n"
          ]
        },
        {
          "output_type": "stream",
          "name": "stdout",
          "text": [
            "\t\ttrain_loss: 0.348 \tval_loss: 0.424 \tlearning_rate: 1.293E-04\n",
            "\n",
            " Epoch: 107\n"
          ]
        },
        {
          "output_type": "stream",
          "name": "stderr",
          "text": [
            "100%|██████████| 63/63 [00:33<00:00,  1.90it/s]\n"
          ]
        },
        {
          "output_type": "stream",
          "name": "stdout",
          "text": [
            "\t\ttrain_loss: 0.348 \tval_loss: 0.403 \tlearning_rate: 1.287E-04\n",
            "\n",
            " Epoch: 108\n"
          ]
        },
        {
          "output_type": "stream",
          "name": "stderr",
          "text": [
            "100%|██████████| 63/63 [00:33<00:00,  1.90it/s]\n"
          ]
        },
        {
          "output_type": "stream",
          "name": "stdout",
          "text": [
            "\t\ttrain_loss: 0.347 \tval_loss: 0.439 \tlearning_rate: 1.280E-04\n",
            "\n",
            " Epoch: 109\n"
          ]
        },
        {
          "output_type": "stream",
          "name": "stderr",
          "text": [
            "100%|██████████| 63/63 [00:33<00:00,  1.90it/s]\n"
          ]
        },
        {
          "output_type": "stream",
          "name": "stdout",
          "text": [
            "\t\ttrain_loss: 0.347 \tval_loss: 0.513 \tlearning_rate: 1.273E-04\n",
            "\n",
            " Epoch: 110\n"
          ]
        },
        {
          "output_type": "stream",
          "name": "stderr",
          "text": [
            "100%|██████████| 63/63 [00:33<00:00,  1.90it/s]\n",
            "WARNING:tensorflow:Compiled the loaded model, but the compiled metrics have yet to be built. `model.compile_metrics` will be empty until you train or evaluate the model.\n"
          ]
        },
        {
          "output_type": "stream",
          "name": "stdout",
          "text": [
            "\t\ttrain_loss: 0.348 \tval_loss: 0.381 \tlearning_rate: 1.267E-04\n",
            "############################################ New lowest_val_loss reached #########################\n"
          ]
        },
        {
          "output_type": "stream",
          "name": "stderr",
          "text": [
            "WARNING:absl:Found untraced functions such as embedding_layer_call_fn, embedding_layer_call_and_return_conditional_losses, dropout_2_layer_call_fn, dropout_2_layer_call_and_return_conditional_losses, layer_normalization_layer_call_fn while saving (showing 5 of 85). These functions will not be directly callable after loading.\n"
          ]
        },
        {
          "output_type": "stream",
          "name": "stdout",
          "text": [
            "\n",
            " Epoch: 111\n"
          ]
        },
        {
          "output_type": "stream",
          "name": "stderr",
          "text": [
            "100%|██████████| 63/63 [00:33<00:00,  1.89it/s]\n"
          ]
        },
        {
          "output_type": "stream",
          "name": "stdout",
          "text": [
            "\t\ttrain_loss: 0.346 \tval_loss: 0.412 \tlearning_rate: 1.260E-04\n",
            "\n",
            " Epoch: 112\n"
          ]
        },
        {
          "output_type": "stream",
          "name": "stderr",
          "text": [
            "100%|██████████| 63/63 [00:33<00:00,  1.90it/s]\n"
          ]
        },
        {
          "output_type": "stream",
          "name": "stdout",
          "text": [
            "\t\ttrain_loss: 0.345 \tval_loss: 0.393 \tlearning_rate: 1.253E-04\n",
            "\n",
            " Epoch: 113\n"
          ]
        },
        {
          "output_type": "stream",
          "name": "stderr",
          "text": [
            "100%|██████████| 63/63 [00:33<00:00,  1.90it/s]\n"
          ]
        },
        {
          "output_type": "stream",
          "name": "stdout",
          "text": [
            "\t\ttrain_loss: 0.346 \tval_loss: 0.468 \tlearning_rate: 1.247E-04\n",
            "\n",
            " Epoch: 114\n"
          ]
        },
        {
          "output_type": "stream",
          "name": "stderr",
          "text": [
            "100%|██████████| 63/63 [00:33<00:00,  1.90it/s]\n"
          ]
        },
        {
          "output_type": "stream",
          "name": "stdout",
          "text": [
            "\t\ttrain_loss: 0.346 \tval_loss: 0.474 \tlearning_rate: 1.240E-04\n",
            "\n",
            " Epoch: 115\n"
          ]
        },
        {
          "output_type": "stream",
          "name": "stderr",
          "text": [
            "100%|██████████| 63/63 [00:33<00:00,  1.90it/s]\n"
          ]
        },
        {
          "output_type": "stream",
          "name": "stdout",
          "text": [
            "\t\ttrain_loss: 0.340 \tval_loss: 0.420 \tlearning_rate: 1.233E-04\n",
            "\n",
            " Epoch: 116\n"
          ]
        },
        {
          "output_type": "stream",
          "name": "stderr",
          "text": [
            "100%|██████████| 63/63 [00:33<00:00,  1.90it/s]\n"
          ]
        },
        {
          "output_type": "stream",
          "name": "stdout",
          "text": [
            "\t\ttrain_loss: 0.343 \tval_loss: 0.388 \tlearning_rate: 1.227E-04\n",
            "\n",
            " Epoch: 117\n"
          ]
        },
        {
          "output_type": "stream",
          "name": "stderr",
          "text": [
            "100%|██████████| 63/63 [00:33<00:00,  1.89it/s]\n"
          ]
        },
        {
          "output_type": "stream",
          "name": "stdout",
          "text": [
            "\t\ttrain_loss: 0.342 \tval_loss: 0.408 \tlearning_rate: 1.220E-04\n",
            "\n",
            " Epoch: 118\n"
          ]
        },
        {
          "output_type": "stream",
          "name": "stderr",
          "text": [
            "100%|██████████| 63/63 [00:33<00:00,  1.90it/s]\n"
          ]
        },
        {
          "output_type": "stream",
          "name": "stdout",
          "text": [
            "\t\ttrain_loss: 0.342 \tval_loss: 0.457 \tlearning_rate: 1.213E-04\n",
            "\n",
            " Epoch: 119\n"
          ]
        },
        {
          "output_type": "stream",
          "name": "stderr",
          "text": [
            "100%|██████████| 63/63 [00:33<00:00,  1.90it/s]\n"
          ]
        },
        {
          "output_type": "stream",
          "name": "stdout",
          "text": [
            "\t\ttrain_loss: 0.344 \tval_loss: 0.571 \tlearning_rate: 1.207E-04\n",
            "\n",
            " Epoch: 120\n"
          ]
        },
        {
          "output_type": "stream",
          "name": "stderr",
          "text": [
            "100%|██████████| 63/63 [00:33<00:00,  1.90it/s]\n"
          ]
        },
        {
          "output_type": "stream",
          "name": "stdout",
          "text": [
            "\t\ttrain_loss: 0.341 \tval_loss: 0.402 \tlearning_rate: 1.200E-04\n",
            "\n",
            " Epoch: 121\n"
          ]
        },
        {
          "output_type": "stream",
          "name": "stderr",
          "text": [
            "100%|██████████| 63/63 [00:33<00:00,  1.90it/s]\n"
          ]
        },
        {
          "output_type": "stream",
          "name": "stdout",
          "text": [
            "\t\ttrain_loss: 0.337 \tval_loss: 0.389 \tlearning_rate: 1.193E-04\n",
            "\n",
            " Epoch: 122\n"
          ]
        },
        {
          "output_type": "stream",
          "name": "stderr",
          "text": [
            "100%|██████████| 63/63 [00:33<00:00,  1.90it/s]\n"
          ]
        },
        {
          "output_type": "stream",
          "name": "stdout",
          "text": [
            "\t\ttrain_loss: 0.336 \tval_loss: 0.383 \tlearning_rate: 1.187E-04\n",
            "\n",
            " Epoch: 123\n"
          ]
        },
        {
          "output_type": "stream",
          "name": "stderr",
          "text": [
            "100%|██████████| 63/63 [00:33<00:00,  1.90it/s]\n"
          ]
        },
        {
          "output_type": "stream",
          "name": "stdout",
          "text": [
            "\t\ttrain_loss: 0.335 \tval_loss: 0.443 \tlearning_rate: 1.180E-04\n",
            "\n",
            " Epoch: 124\n"
          ]
        },
        {
          "output_type": "stream",
          "name": "stderr",
          "text": [
            "100%|██████████| 63/63 [00:33<00:00,  1.90it/s]\n"
          ]
        },
        {
          "output_type": "stream",
          "name": "stdout",
          "text": [
            "\t\ttrain_loss: 0.337 \tval_loss: 0.397 \tlearning_rate: 1.173E-04\n",
            "\n",
            " Epoch: 125\n"
          ]
        },
        {
          "output_type": "stream",
          "name": "stderr",
          "text": [
            "100%|██████████| 63/63 [00:33<00:00,  1.90it/s]\n"
          ]
        },
        {
          "output_type": "stream",
          "name": "stdout",
          "text": [
            "\t\ttrain_loss: 0.336 \tval_loss: 0.395 \tlearning_rate: 1.167E-04\n",
            "\n",
            " Epoch: 126\n"
          ]
        },
        {
          "output_type": "stream",
          "name": "stderr",
          "text": [
            "100%|██████████| 63/63 [00:33<00:00,  1.90it/s]\n"
          ]
        },
        {
          "output_type": "stream",
          "name": "stdout",
          "text": [
            "\t\ttrain_loss: 0.334 \tval_loss: 0.400 \tlearning_rate: 1.160E-04\n",
            "\n",
            " Epoch: 127\n"
          ]
        },
        {
          "output_type": "stream",
          "name": "stderr",
          "text": [
            "100%|██████████| 63/63 [00:33<00:00,  1.89it/s]\n"
          ]
        },
        {
          "output_type": "stream",
          "name": "stdout",
          "text": [
            "\t\ttrain_loss: 0.334 \tval_loss: 0.439 \tlearning_rate: 1.153E-04\n",
            "\n",
            " Epoch: 128\n"
          ]
        },
        {
          "output_type": "stream",
          "name": "stderr",
          "text": [
            "100%|██████████| 63/63 [00:33<00:00,  1.90it/s]\n"
          ]
        },
        {
          "output_type": "stream",
          "name": "stdout",
          "text": [
            "\t\ttrain_loss: 0.331 \tval_loss: 0.396 \tlearning_rate: 1.147E-04\n",
            "\n",
            " Epoch: 129\n"
          ]
        },
        {
          "output_type": "stream",
          "name": "stderr",
          "text": [
            "100%|██████████| 63/63 [00:33<00:00,  1.89it/s]\n"
          ]
        },
        {
          "output_type": "stream",
          "name": "stdout",
          "text": [
            "\t\ttrain_loss: 0.336 \tval_loss: 0.393 \tlearning_rate: 1.140E-04\n",
            "\n",
            " Epoch: 130\n"
          ]
        },
        {
          "output_type": "stream",
          "name": "stderr",
          "text": [
            "100%|██████████| 63/63 [00:33<00:00,  1.90it/s]\n"
          ]
        },
        {
          "output_type": "stream",
          "name": "stdout",
          "text": [
            "\t\ttrain_loss: 0.334 \tval_loss: 0.430 \tlearning_rate: 1.133E-04\n",
            "\n",
            " Epoch: 131\n"
          ]
        },
        {
          "output_type": "stream",
          "name": "stderr",
          "text": [
            "100%|██████████| 63/63 [00:33<00:00,  1.90it/s]\n"
          ]
        },
        {
          "output_type": "stream",
          "name": "stdout",
          "text": [
            "\t\ttrain_loss: 0.333 \tval_loss: 0.392 \tlearning_rate: 1.127E-04\n",
            "\n",
            " Epoch: 132\n"
          ]
        },
        {
          "output_type": "stream",
          "name": "stderr",
          "text": [
            "100%|██████████| 63/63 [00:33<00:00,  1.90it/s]\n"
          ]
        },
        {
          "output_type": "stream",
          "name": "stdout",
          "text": [
            "\t\ttrain_loss: 0.331 \tval_loss: 0.395 \tlearning_rate: 1.120E-04\n",
            "\n",
            " Epoch: 133\n"
          ]
        },
        {
          "output_type": "stream",
          "name": "stderr",
          "text": [
            "100%|██████████| 63/63 [00:33<00:00,  1.90it/s]\n"
          ]
        },
        {
          "output_type": "stream",
          "name": "stdout",
          "text": [
            "\t\ttrain_loss: 0.331 \tval_loss: 0.413 \tlearning_rate: 1.113E-04\n",
            "\n",
            " Epoch: 134\n"
          ]
        },
        {
          "output_type": "stream",
          "name": "stderr",
          "text": [
            "100%|██████████| 63/63 [00:33<00:00,  1.90it/s]\n"
          ]
        },
        {
          "output_type": "stream",
          "name": "stdout",
          "text": [
            "\t\ttrain_loss: 0.329 \tval_loss: 0.445 \tlearning_rate: 1.107E-04\n",
            "\n",
            " Epoch: 135\n"
          ]
        },
        {
          "output_type": "stream",
          "name": "stderr",
          "text": [
            "100%|██████████| 63/63 [00:33<00:00,  1.90it/s]\n"
          ]
        },
        {
          "output_type": "stream",
          "name": "stdout",
          "text": [
            "\t\ttrain_loss: 0.330 \tval_loss: 0.421 \tlearning_rate: 1.100E-04\n",
            "\n",
            " Epoch: 136\n"
          ]
        },
        {
          "output_type": "stream",
          "name": "stderr",
          "text": [
            "100%|██████████| 63/63 [00:33<00:00,  1.90it/s]\n"
          ]
        },
        {
          "output_type": "stream",
          "name": "stdout",
          "text": [
            "\t\ttrain_loss: 0.330 \tval_loss: 0.401 \tlearning_rate: 1.093E-04\n",
            "\n",
            " Epoch: 137\n"
          ]
        },
        {
          "output_type": "stream",
          "name": "stderr",
          "text": [
            "100%|██████████| 63/63 [00:33<00:00,  1.90it/s]\n"
          ]
        },
        {
          "output_type": "stream",
          "name": "stdout",
          "text": [
            "\t\ttrain_loss: 0.331 \tval_loss: 0.406 \tlearning_rate: 1.087E-04\n",
            "\n",
            " Epoch: 138\n"
          ]
        },
        {
          "output_type": "stream",
          "name": "stderr",
          "text": [
            "100%|██████████| 63/63 [00:33<00:00,  1.90it/s]\n"
          ]
        },
        {
          "output_type": "stream",
          "name": "stdout",
          "text": [
            "\t\ttrain_loss: 0.330 \tval_loss: 0.411 \tlearning_rate: 1.080E-04\n",
            "\n",
            " Epoch: 139\n"
          ]
        },
        {
          "output_type": "stream",
          "name": "stderr",
          "text": [
            "100%|██████████| 63/63 [00:33<00:00,  1.90it/s]\n"
          ]
        },
        {
          "output_type": "stream",
          "name": "stdout",
          "text": [
            "\t\ttrain_loss: 0.326 \tval_loss: 0.444 \tlearning_rate: 1.073E-04\n",
            "\n",
            " Epoch: 140\n"
          ]
        },
        {
          "output_type": "stream",
          "name": "stderr",
          "text": [
            "100%|██████████| 63/63 [00:33<00:00,  1.90it/s]\n"
          ]
        },
        {
          "output_type": "stream",
          "name": "stdout",
          "text": [
            "\t\ttrain_loss: 0.329 \tval_loss: 0.488 \tlearning_rate: 1.067E-04\n",
            "\n",
            " Epoch: 141\n"
          ]
        },
        {
          "output_type": "stream",
          "name": "stderr",
          "text": [
            "100%|██████████| 63/63 [00:33<00:00,  1.90it/s]\n"
          ]
        },
        {
          "output_type": "stream",
          "name": "stdout",
          "text": [
            "\t\ttrain_loss: 0.328 \tval_loss: 0.429 \tlearning_rate: 1.060E-04\n",
            "End of training phase - Patience threshold reached \n",
            "Weights Restored from Lowest val_loss epoch: 110 \n",
            "lowest_val_loss: 0.38100001215934753\n"
          ]
        },
        {
          "output_type": "display_data",
          "data": {
            "text/plain": [
              "<Figure size 1440x648 with 1 Axes>"
            ],
            "image/png": "[encoded data removed]"
          },
          "metadata": {
            "needs_background": "light"
          }
        }
      ],
      "source": [
        "net.train_model(X_train_d, \n",
        "                X_val_d, \n",
        "                False, # TPU\n",
        "                cardinality,\n",
        "                #strategy\n",
        "                )"
      ]
    },
    {
      "cell_type": "code",
      "execution_count": null,
      "metadata": {
        "id": "ZasC-aATBHEz",
        "colab": {
          "base_uri": "https://localhost:8080/",
          "height": 1000
        },
        "outputId": "7d14feb4-b24f-4413-ee62-87e29acd628a"
      },
      "outputs": [
        {
          "output_type": "stream",
          "name": "stdout",
          "text": [
            "y:  999\n",
            "pred:  999\n",
            "Test R^2 = 0.605\n",
            "Test Pearson = 0.778\n",
            "Test Spearman = 0.777\n",
            "\n"
          ]
        },
        {
          "output_type": "stream",
          "name": "stderr",
          "text": [
            "WARNING:tensorflow:No training configuration found in save file, so the model was *not* compiled. Compile it manually.\n"
          ]
        },
        {
          "output_type": "stream",
          "name": "stdout",
          "text": [
            "y:  999\n",
            "pred:  999\n",
            "Test R^2 = 0.611\n",
            "Test Pearson = 0.782\n",
            "Test Spearman = 0.782\n",
            "\n"
          ]
        },
        {
          "output_type": "display_data",
          "data": {
            "text/plain": [
              "<Figure size 451.375x360 with 1 Axes>"
            ],
            "image/png": "[encoded data removed]"
          },
          "metadata": {
            "needs_background": "light"
          }
        },
        {
          "output_type": "stream",
          "name": "stdout",
          "text": [
            "\n"
          ]
        },
        {
          "output_type": "stream",
          "name": "stderr",
          "text": [
            "WARNING:matplotlib.legend:No handles with labels found to put in legend.\n"
          ]
        },
        {
          "output_type": "display_data",
          "data": {
            "text/plain": [
              "<Figure size 720x648 with 1 Axes>"
            ],
            "image/png": "[encoded data removed]"
          },
          "metadata": {
            "needs_background": "light"
          }
        },
        {
          "output_type": "stream",
          "name": "stdout",
          "text": [
            "\n"
          ]
        }
      ],
      "source": [
        "net.evaluate_model(X_test_d, strategy=strategy)\n",
        "print(\"\")\n",
        "predictions, y = net.evaluate_best_model(X_test_d, strategy=strategy)\n",
        "print(\"\")\n",
        "net.plot_kde(X_test_d, strategy=strategy, predictions=predictions, y=y)\n",
        "print(\"\")\n",
        "net.plot_r2(X_test_d, strategy=strategy, predictions=predictions, y=y, ylim=None, xlim=None)\n",
        "print(\"\")"
      ]
    }
  ],
  "metadata": {
    "accelerator": "GPU",
    "colab": {
      "provenance": []
    },
    "kernelspec": {
      "display_name": "Python 3",
      "name": "python3"
    },
    "language_info": {
      "name": "python"
    },
    "gpuClass": "standard"
  },
  "nbformat": 4,
  "nbformat_minor": 0
}
